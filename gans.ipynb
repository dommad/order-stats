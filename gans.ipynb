{
 "cells": [
  {
   "cell_type": "code",
   "execution_count": 8,
   "metadata": {},
   "outputs": [],
   "source": [
    "import torch\n",
    "from torch import nn\n",
    "\n",
    "import math\n",
    "import matplotlib.pyplot as plt\n",
    "import torchvision\n",
    "import torchvision.transforms as transforms\n",
    "import numpy as np\n",
    "import scipy.stats as st\n",
    "import matplotlib.pyplot as plt"
   ]
  },
  {
   "cell_type": "code",
   "execution_count": null,
   "metadata": {},
   "outputs": [],
   "source": [
    "import numpy as np   \n",
    "import scipy.stats as st   \n",
    "import matplotlib.pyplot as plt    \n",
    "#general formula for the nth sample moment   \n",
    "def sample_moment(sample, n):       \n",
    "  summed = np.sum([el**n for el in sample])       \n",
    "  length = len(sample)       \n",
    "  return 1/length * summed    \n",
    "#function to estimate parameters k and theta   \n",
    "def estimate_pars(sample):       \n",
    "  m1 = sample_moment(sample, 1)       \n",
    "  m2 = sample_moment(sample, 2)       \n",
    "  k = m1**2/(m2 - m1**2)       \n",
    "  theta = m2/m1 - m1       \n",
    "  return k, theta"
   ]
  },
  {
   "cell_type": "code",
   "execution_count": null,
   "metadata": {},
   "outputs": [],
   "source": [
    "np.random.seed(100)\n",
    "k, theta = 3, 0.2\n",
    "sample = st.gamma.rvs(a=k, scale=theta, size=10000)\n",
    "  \n"
   ]
  },
  {
   "cell_type": "code",
   "execution_count": 5,
   "metadata": {},
   "outputs": [],
   "source": [
    "import numpy as np\n",
    "import scipy.stats as st\n",
    "import matplotlib.pyplot as plt\n",
    "\n",
    "#general formula for the nth sample moment\n",
    "def sample_moment(sample, n):\n",
    "    summed = np.sum([el**n for el in sample])\n",
    "    length = len(sample)\n",
    "    return 1/length * summed\n",
    "\n",
    "#function to estimate parameters k and theta\n",
    "def estimate_pars(sample):\n",
    "    m1 = sample_moment(sample, 1)\n",
    "    m2 = sample_moment(sample, 2)\n",
    "    k = m1**2/(m2 - m1**2)\n",
    "    theta = m2/m1 - m1\n",
    "    return k, theta\n",
    "  "
   ]
  },
  {
   "cell_type": "code",
   "execution_count": 81,
   "metadata": {},
   "outputs": [],
   "source": [
    "np.random.seed(100)\n",
    "k, theta = 3, 0.2\n",
    "sample = st.gamma.rvs(a=k, scale=theta, size=10000)"
   ]
  },
  {
   "cell_type": "code",
   "execution_count": 83,
   "metadata": {},
   "outputs": [
    {
     "name": "stdout",
     "output_type": "stream",
     "text": [
      "3.0503863486490594 0.1971930523058737\n"
     ]
    }
   ],
   "source": [
    "k_hat, theta_hat = estimate_pars(sample)\n",
    "print(k, theta)"
   ]
  },
  {
   "cell_type": "code",
   "execution_count": 59,
   "metadata": {},
   "outputs": [
    {
     "data": {
      "text/plain": [
       "[<matplotlib.lines.Line2D at 0x7fa5f39740d0>]"
      ]
     },
     "execution_count": 59,
     "metadata": {},
     "output_type": "execute_result"
    },
    {
     "data": {
      "image/png": "[encoded data removed]",
      "text/plain": [
       "<Figure size 432x288 with 1 Axes>"
      ]
     },
     "metadata": {
      "needs_background": "light"
     },
     "output_type": "display_data"
    }
   ],
   "source": [
    "plt.hist(sample[1], density=True, bins=100, histtype='step')\n",
    "#plt.hist(sample[2], density=True, bins=100, histtype='step')\n",
    "plt.plot(support, pdfs)\n",
    "#plt.show()"
   ]
  },
  {
   "cell_type": "code",
   "execution_count": 56,
   "metadata": {},
   "outputs": [],
   "source": [
    "k, theta = estimate_pars(sample[0])"
   ]
  },
  {
   "cell_type": "code",
   "execution_count": 165,
   "metadata": {},
   "outputs": [
    {
     "data": {
      "image/png": "[encoded data removed]",
      "text/plain": [
       "<Figure size 216x216 with 1 Axes>"
      ]
     },
     "metadata": {
      "needs_background": "light"
     },
     "output_type": "display_data"
    }
   ],
   "source": [
    "#generate some points along the x axis\n",
    "support = np.linspace(0, 2.5, 10000)\n",
    "\n",
    "#calculate pdf values using the original parameters\n",
    "org_pdf = st.gamma.pdf(x=support, a=k, scale=theta)\n",
    "\n",
    "#calculate pdf values using the estimated parameters\n",
    "est_pdf = st.gamma.pdf(x=support, a=k_hat, scale=theta_hat)\n",
    "\n",
    "fig, ax = plt.subplots(figsize=(3,3))\n",
    "ax.set_ylabel('density')\n",
    "ax.plot(support, org_pdf,color='green')\n",
    "ax.plot(support, est_pdf,color='orange')\n",
    "ax.hist(sample, density=True, bins=100, color='blue', alpha=0.2)\n",
    "ax.legend(['original', 'estimated', 'sample'])\n",
    "ax.fill_between(support, org_pdf, color=\"none\", hatch=\"/\", edgecolor=\"green\")\n",
    "ax.fill_between(support, est_pdf, color=\"none\", hatch=\"|\", edgecolor=\"orange\")\n",
    "\n",
    "fig.savefig(\"./graphs/testing.png\", dpi=600)\n"
   ]
  },
  {
   "cell_type": "code",
   "execution_count": 53,
   "metadata": {},
   "outputs": [
    {
     "name": "stdout",
     "output_type": "stream",
     "text": [
      "A gamma continuous random variable.\n",
      "\n",
      "    As an instance of the `rv_continuous` class, `gamma` object inherits from it\n",
      "    a collection of generic methods (see below for the full list),\n",
      "    and completes them with details specific for this particular distribution.\n",
      "    \n",
      "    Methods\n",
      "    -------\n",
      "    rvs(a, loc=0, scale=1, size=1, random_state=None)\n",
      "        Random variates.\n",
      "    pdf(x, a, loc=0, scale=1)\n",
      "        Probability density function.\n",
      "    logpdf(x, a, loc=0, scale=1)\n",
      "        Log of the probability density function.\n",
      "    cdf(x, a, loc=0, scale=1)\n",
      "        Cumulative distribution function.\n",
      "    logcdf(x, a, loc=0, scale=1)\n",
      "        Log of the cumulative distribution function.\n",
      "    sf(x, a, loc=0, scale=1)\n",
      "        Survival function  (also defined as ``1 - cdf``, but `sf` is sometimes more accurate).\n",
      "    logsf(x, a, loc=0, scale=1)\n",
      "        Log of the survival function.\n",
      "    ppf(q, a, loc=0, scale=1)\n",
      "        Percent point function (inverse of ``cdf`` --- percentiles).\n",
      "    isf(q, a, loc=0, scale=1)\n",
      "        Inverse survival function (inverse of ``sf``).\n",
      "    moment(n, a, loc=0, scale=1)\n",
      "        Non-central moment of order n\n",
      "    stats(a, loc=0, scale=1, moments='mv')\n",
      "        Mean('m'), variance('v'), skew('s'), and/or kurtosis('k').\n",
      "    entropy(a, loc=0, scale=1)\n",
      "        (Differential) entropy of the RV.\n",
      "    fit(data)\n",
      "        Parameter estimates for generic data.\n",
      "        See `scipy.stats.rv_continuous.fit <https://docs.scipy.org/doc/scipy/reference/generated/scipy.stats.rv_continuous.fit.html#scipy.stats.rv_continuous.fit>`__ for detailed documentation of the\n",
      "        keyword arguments.\n",
      "    expect(func, args=(a,), loc=0, scale=1, lb=None, ub=None, conditional=False, **kwds)\n",
      "        Expected value of a function (of one argument) with respect to the distribution.\n",
      "    median(a, loc=0, scale=1)\n",
      "        Median of the distribution.\n",
      "    mean(a, loc=0, scale=1)\n",
      "        Mean of the distribution.\n",
      "    var(a, loc=0, scale=1)\n",
      "        Variance of the distribution.\n",
      "    std(a, loc=0, scale=1)\n",
      "        Standard deviation of the distribution.\n",
      "    interval(alpha, a, loc=0, scale=1)\n",
      "        Endpoints of the range that contains alpha percent of the distribution\n",
      "\n",
      "    See Also\n",
      "    --------\n",
      "    erlang, expon\n",
      "\n",
      "    Notes\n",
      "    -----\n",
      "    The probability density function for `gamma` is:\n",
      "\n",
      "    .. math::\n",
      "\n",
      "        f(x, a) = \\frac{x^{a-1} e^{-x}}{\\Gamma(a)}\n",
      "\n",
      "    for :math:`x \\ge 0`, :math:`a > 0`. Here :math:`\\Gamma(a)` refers to the\n",
      "    gamma function.\n",
      "\n",
      "    `gamma` takes ``a`` as a shape parameter for :math:`a`.\n",
      "\n",
      "    When :math:`a` is an integer, `gamma` reduces to the Erlang\n",
      "    distribution, and when :math:`a=1` to the exponential distribution.\n",
      "\n",
      "    Gamma distributions are sometimes parameterized with two variables,\n",
      "    with a probability density function of:\n",
      "\n",
      "    .. math::\n",
      "\n",
      "        f(x, \\alpha, \\beta) = \\frac{\\beta^\\alpha x^{\\alpha - 1} e^{-\\beta x }}{\\Gamma(\\alpha)}\n",
      "\n",
      "    Note that this parameterization is equivalent to the above, with\n",
      "    ``scale = 1 / beta``.\n",
      "\n",
      "    The probability density above is defined in the \"standardized\" form. To shift\n",
      "    and/or scale the distribution use the ``loc`` and ``scale`` parameters.\n",
      "    Specifically, ``gamma.pdf(x, a, loc, scale)`` is identically\n",
      "    equivalent to ``gamma.pdf(y, a) / scale`` with\n",
      "    ``y = (x - loc) / scale``. Note that shifting the location of a distribution\n",
      "    does not make it a \"noncentral\" distribution; noncentral generalizations of\n",
      "    some distributions are available in separate classes.\n",
      "\n",
      "    Examples\n",
      "    --------\n",
      "    >>> from scipy.stats import gamma\n",
      "    >>> import matplotlib.pyplot as plt\n",
      "    >>> fig, ax = plt.subplots(1, 1)\n",
      "    \n",
      "    Calculate a few first moments:\n",
      "    \n",
      "    >>> a = 1.99\n",
      "    >>> mean, var, skew, kurt = gamma.stats(a, moments='mvsk')\n",
      "    \n",
      "    Display the probability density function (``pdf``):\n",
      "    \n",
      "    >>> x = np.linspace(gamma.ppf(0.01, a),\n",
      "    ...                 gamma.ppf(0.99, a), 100)\n",
      "    >>> ax.plot(x, gamma.pdf(x, a),\n",
      "    ...        'r-', lw=5, alpha=0.6, label='gamma pdf')\n",
      "    \n",
      "    Alternatively, the distribution object can be called (as a function)\n",
      "    to fix the shape, location and scale parameters. This returns a \"frozen\"\n",
      "    RV object holding the given parameters fixed.\n",
      "    \n",
      "    Freeze the distribution and display the frozen ``pdf``:\n",
      "    \n",
      "    >>> rv = gamma(a)\n",
      "    >>> ax.plot(x, rv.pdf(x), 'k-', lw=2, label='frozen pdf')\n",
      "    \n",
      "    Check accuracy of ``cdf`` and ``ppf``:\n",
      "    \n",
      "    >>> vals = gamma.ppf([0.001, 0.5, 0.999], a)\n",
      "    >>> np.allclose([0.001, 0.5, 0.999], gamma.cdf(vals, a))\n",
      "    True\n",
      "    \n",
      "    Generate random numbers:\n",
      "    \n",
      "    >>> r = gamma.rvs(a, size=1000)\n",
      "    \n",
      "    And compare the histogram:\n",
      "    \n",
      "    >>> ax.hist(r, density=True, histtype='stepfilled', alpha=0.2)\n",
      "    >>> ax.legend(loc='best', frameon=False)\n",
      "    >>> plt.show()\n",
      "    \n",
      "\n",
      "    \n"
     ]
    }
   ],
   "source": [
    "def estimate_pars(sample):\n",
    "      m1 = sample_moment(sample, 1)\n",
    "  m2 = sample_moment(sample, 2)\n",
    "  k = m1**2/(m2 - m1**2)\n",
    "  theta = m2/m1 - m1\n",
    "  return k, theta\n",
    "  "
   ]
  }
 ],
 "metadata": {
  "interpreter": {
   "hash": "4389968300cbd26472c558fe5fa08af677b72284526be1aeafb6704b82d7f593"
  },
  "kernelspec": {
   "display_name": "Python 3.8.8 64-bit ('base': conda)",
   "language": "python",
   "name": "python3"
  },
  "language_info": {
   "codemirror_mode": {
    "name": "ipython",
    "version": 3
   },
   "file_extension": ".py",
   "mimetype": "text/x-python",
   "name": "python",
   "nbconvert_exporter": "python",
   "pygments_lexer": "ipython3",
   "version": "3.8.8"
  },
  "orig_nbformat": 4
 },
 "nbformat": 4,
 "nbformat_minor": 2
}
