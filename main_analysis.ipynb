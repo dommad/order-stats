{
 "cells": [
  {
   "cell_type": "code",
   "execution_count": null,
   "metadata": {},
   "outputs": [],
   "source": [
    "import os\n",
    "import glob\n",
    "import warnings\n",
    "import full_analysis as FA\n",
    "import importlib as imp\n",
    "imp.reload(FA)\n",
    "warnings.filterwarnings(\"ignore\")"
   ]
  },
  {
   "cell_type": "markdown",
   "id": "20f6367f",
   "metadata": {},
   "source": [
    "Parameter estimation using lower order models:"
   ]
  },
  {
   "cell_type": "markdown",
   "id": "fddf8013",
   "metadata": {},
   "source": [
    "1. Define the list of pep.xml files to analyze"
   ]
  },
  {
   "cell_type": "code",
   "execution_count": null,
   "id": "8332222e",
   "metadata": {},
   "outputs": [],
   "source": [
    "paths = sorted(glob.glob(os.path.join(\"/data/dominik/lower_order/datasets/ecoli/\", \"*21.pep.xml\")))"
   ]
  },
  {
   "cell_type": "markdown",
   "id": "2187ad20",
   "metadata": {},
   "source": [
    "2. Execute the estimation code, output parameters of the top null models for 2+, 3+, 4+ into best_params"
   ]
  },
  {
   "cell_type": "code",
   "execution_count": null,
   "id": "99facefb",
   "metadata": {},
   "outputs": [],
   "source": [
    "analysis = FA.Analyze(\"output_name\")\n",
    "best_params = analysis.execute_estimation(paths)"
   ]
  },
  {
   "cell_type": "markdown",
   "id": "6245398e",
   "metadata": {},
   "source": [
    "Validation study"
   ]
  },
  {
   "cell_type": "markdown",
   "id": "f16a2e81",
   "metadata": {},
   "source": [
    "1. Define the list of pep.xml files to analyze (pos: positive samples search results, rands: negative samples search results, decs: decoy-only search results)"
   ]
  },
  {
   "cell_type": "code",
   "execution_count": null,
   "id": "d72c0533",
   "metadata": {},
   "outputs": [],
   "source": [
    "pos = sorted(glob.glob(os.path.join(\"/data/dominik/lower_order/validation/\", \"r*16*pos*pep.xml\")))\n",
    "rands = sorted(glob.glob(os.path.join(\"/data/dominik/lower_order/validation/\", \"A*16*random*pep.xml\")))\n",
    "decs = sorted(glob.glob(os.path.join(\"/data/dominik/lower_order/validation/\", \"A*16*decoy.pep.xml\")))\n",
    "tar = pos+rands"
   ]
  },
  {
   "cell_type": "markdown",
   "id": "c47d33bb",
   "metadata": {},
   "source": [
    "2. Conduct the analysis; first, estimate parameters of top null models using lower order models, then execute the validation code"
   ]
  },
  {
   "cell_type": "code",
   "execution_count": null,
   "id": "e001a492",
   "metadata": {},
   "outputs": [],
   "source": [
    "analysis = FA.Analyze(\"output_name\")\n",
    "best_params = analysis.execute_estimation(tar)\n",
    "stats = analysis.execute_validation(decs+tar)"
   ]
  }
 ],
 "metadata": {
  "interpreter": {
   "hash": "4389968300cbd26472c558fe5fa08af677b72284526be1aeafb6704b82d7f593"
  },
  "kernelspec": {
   "display_name": "Python 3.8.8 ('base': conda)",
   "language": "python",
   "name": "python3"
  },
  "language_info": {
   "codemirror_mode": {
    "name": "ipython",
    "version": 3
   },
   "file_extension": ".py",
   "mimetype": "text/x-python",
   "name": "python",
   "nbconvert_exporter": "python",
   "pygments_lexer": "ipython3",
   "version": "3.8.8"
  }
 },
 "nbformat": 4,
 "nbformat_minor": 5
}
