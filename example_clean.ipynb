{
 "cells": [
  {
   "cell_type": "code",
   "execution_count": null,
   "id": "ae9117f6",
   "metadata": {},
   "outputs": [],
   "source": [
    "import full_analysis as FA\n",
    "import importlib as imp\n",
    "imp.reload(FA)\n",
    "import os\n",
    "import glob"
   ]
  },
  {
   "cell_type": "markdown",
   "id": "20f6367f",
   "metadata": {},
   "source": [
    "Parameter estimation using lower order models:"
   ]
  },
  {
   "cell_type": "markdown",
   "id": "fddf8013",
   "metadata": {},
   "source": [
    "1. Define the list of pep.xml files to analyze and output location for parameters of top negative models to be fed to PeptideProphet (by default .txt file). Make sure the pep.xml files contain at least 10 candidates output for each spectrum."
   ]
  },
  {
   "cell_type": "code",
   "execution_count": null,
   "id": "8332222e",
   "metadata": {},
   "outputs": [],
   "source": [
    "pepxml_paths = sorted(glob.glob(os.path.join(\"/path/to/pepxmls/\", \"*.pep.xml\")))\n",
    "tnm_params = \"./tnm_params\""
   ]
  },
  {
   "cell_type": "markdown",
   "id": "2187ad20",
   "metadata": {},
   "source": [
    "2. Execute the estimation code, output parameters of the top negative models into best_params"
   ]
  },
  {
   "cell_type": "code",
   "execution_count": null,
   "id": "99facefb",
   "metadata": {},
   "outputs": [],
   "source": [
    "core_output_name = \"test\"\n",
    "analysis = FA.Analyze(core_output_name)\n",
    "best_params = analysis.execute_estimation(pepxml_paths, tnm_params)"
   ]
  },
  {
   "cell_type": "markdown",
   "id": "6245398e",
   "metadata": {},
   "source": [
    "Validation study for Benjamini-Hochberg procedure"
   ]
  },
  {
   "cell_type": "markdown",
   "id": "f16a2e81",
   "metadata": {},
   "source": [
    "1. Define the list of pep.xml files to analyze (pos: positive samples search results, rands: negative samples search results, decs: decoy-only search results)"
   ]
  },
  {
   "cell_type": "code",
   "execution_count": null,
   "id": "d72c0533",
   "metadata": {},
   "outputs": [],
   "source": [
    "pos = sorted(glob.glob(os.path.join(\"/path/to/pos/\", \"*pos*pep.xml\")))\n",
    "rands = sorted(glob.glob(os.path.join(\"/path/to/rands/\", \"*random*pep.xml\")))\n",
    "decs = sorted(glob.glob(os.path.join(\"/path/to/decs/\", \"*decoy.pep.xml\")))\n",
    "tar = pos+rands"
   ]
  },
  {
   "cell_type": "markdown",
   "id": "c47d33bb",
   "metadata": {},
   "source": [
    "2. Conduct the analysis; first, estimate parameters of top null models using lower order models, then execute the validation code"
   ]
  },
  {
   "cell_type": "code",
   "execution_count": null,
   "id": "e001a492",
   "metadata": {},
   "outputs": [],
   "source": [
    "analysis = FA.Analyze(\"validation_test\")\n",
    "best_params = analysis.execute_estimation(tar)\n",
    "stats = analysis.execute_validation(decs+tar)"
   ]
  },
  {
   "cell_type": "markdown",
   "id": "a86fd923",
   "metadata": {},
   "source": [
    "Validation study for PeptideProphet framework"
   ]
  },
  {
   "cell_type": "markdown",
   "id": "8819ba88",
   "metadata": {},
   "source": [
    "1. Define the path to list of synthetic peptides from ProteomeTools."
   ]
  },
  {
   "cell_type": "code",
   "execution_count": null,
   "id": "ae2443fc",
   "metadata": {},
   "outputs": [],
   "source": [
    "synth_pep_list = \"/data/dominik/pp_cdd_validation/pools_pep.csv\""
   ]
  },
  {
   "cell_type": "markdown",
   "id": "8d75964d",
   "metadata": {},
   "source": [
    "2. Conduct the validation and comparison procedure for PeptideProphet options."
   ]
  },
  {
   "cell_type": "code",
   "execution_count": null,
   "id": "85e2caa5",
   "metadata": {},
   "outputs": [],
   "source": [
    "analysis = FA.Analyze(\"peptideprophet_validation\")\n",
    "analysis.plot_peptideprophet_validation_results(synth_pep_list)"
   ]
  }
 ],
 "metadata": {
  "kernelspec": {
   "display_name": "Python 3.8.8 ('base')",
   "language": "python",
   "name": "python3"
  },
  "language_info": {
   "codemirror_mode": {
    "name": "ipython",
    "version": 3
   },
   "file_extension": ".py",
   "mimetype": "text/x-python",
   "name": "python",
   "nbconvert_exporter": "python",
   "pygments_lexer": "ipython3",
   "version": "3.8.8"
  },
  "vscode": {
   "interpreter": {
    "hash": "4389968300cbd26472c558fe5fa08af677b72284526be1aeafb6704b82d7f593"
   }
  }
 },
 "nbformat": 4,
 "nbformat_minor": 5
}
