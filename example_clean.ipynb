{
 "cells": [
  {
   "cell_type": "code",
   "execution_count": null,
   "id": "ae9117f6",
   "metadata": {},
   "outputs": [],
   "source": [
    "import full_analysis as FA\n",
    "import importlib as imp\n",
    "imp.reload(FA)\n",
    "import os\n",
    "import glob"
   ]
  },
  {
   "cell_type": "markdown",
   "id": "20f6367f",
   "metadata": {},
   "source": [
    "Parameter estimation using lower order models:"
   ]
  },
  {
   "attachments": {},
   "cell_type": "markdown",
   "id": "fddf8013",
   "metadata": {},
   "source": [
    "1. Define the list of pep.xml files to analyze and output location for txt file with parameters of top null models. Make sure the pep.xml files contain at least 10 hits output for each spectrum."
   ]
  },
  {
   "cell_type": "code",
   "execution_count": null,
   "id": "8332222e",
   "metadata": {},
   "outputs": [],
   "source": [
    "pepxml_paths = sorted(glob.glob(os.path.join(\"/path/to/pepxmls/\", \"*.pep.xml\")))\n",
    "tnm_params = \"./tnm_params\""
   ]
  },
  {
   "attachments": {},
   "cell_type": "markdown",
   "id": "2187ad20",
   "metadata": {},
   "source": [
    "2. Execute the estimation code, output parameters of the top negative models into best_params. You can specify the type of search engine used by changing the \"mode\" keyword (allowed values: 'Comet', 'Tide', 'MSGF-tsv', 'MSGF-mzid)"
   ]
  },
  {
   "cell_type": "code",
   "execution_count": null,
   "id": "99facefb",
   "metadata": {},
   "outputs": [],
   "source": [
    "core_output_name = \"test\"\n",
    "analysis = FA.Analyze(core_output_name)\n",
    "best_params = analysis.run_estimation(pepxml_paths, tnm_params, top_n=10, mode='Comet')"
   ]
  },
  {
   "cell_type": "markdown",
   "id": "6245398e",
   "metadata": {},
   "source": [
    "Validation study for Benjamini-Hochberg procedure"
   ]
  },
  {
   "cell_type": "markdown",
   "id": "f16a2e81",
   "metadata": {},
   "source": [
    "1. Define the list of pep.xml files to analyze (pos: positive samples search results, rands: negative samples search results, decs: decoy-only search results)"
   ]
  },
  {
   "cell_type": "code",
   "execution_count": null,
   "id": "d72c0533",
   "metadata": {},
   "outputs": [],
   "source": [
    "pos = sorted(glob.glob(os.path.join(\"/path/to/pos/\", \"*pos*pep.xml\")))\n",
    "rands = sorted(glob.glob(os.path.join(\"/path/to/rands/\", \"*random*pep.xml\")))\n",
    "decs = sorted(glob.glob(os.path.join(\"/path/to/decs/\", \"*decoy.pep.xml\")))\n",
    "tar = pos+rands"
   ]
  },
  {
   "cell_type": "markdown",
   "id": "c47d33bb",
   "metadata": {},
   "source": [
    "2. Conduct the analysis; first, estimate parameters of top null models using lower order models, then execute the validation code"
   ]
  },
  {
   "cell_type": "code",
   "execution_count": null,
   "id": "e001a492",
   "metadata": {},
   "outputs": [],
   "source": [
    "analysis = FA.Analyze(\"validation_test\")\n",
    "best_params = analysis.run_estimation(tar, tnm_params, top_n=10, mode='Tide')\n",
    "stats = analysis.execute_validation(dec+tar+rand, ext_params=best_params[0], reps=500, dec_paths=decs, mode='Tide')"
   ]
  }
 ],
 "metadata": {
  "kernelspec": {
   "display_name": "Python 3",
   "language": "python",
   "name": "python3"
  },
  "language_info": {
   "codemirror_mode": {
    "name": "ipython",
    "version": 3
   },
   "file_extension": ".py",
   "mimetype": "text/x-python",
   "name": "python",
   "nbconvert_exporter": "python",
   "pygments_lexer": "ipython3",
   "version": "3.8.10 (default, Nov 14 2022, 12:59:47) \n[GCC 9.4.0]"
  },
  "vscode": {
   "interpreter": {
    "hash": "916dbcbb3f70747c44a77c7bcd40155683ae19c65e1c03b4aa3499c5328201f1"
   }
  }
 },
 "nbformat": 4,
 "nbformat_minor": 5
}
