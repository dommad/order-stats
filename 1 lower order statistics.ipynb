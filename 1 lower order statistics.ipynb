{
 "cells": [
  {
   "cell_type": "code",
   "execution_count": 1,
   "metadata": {},
   "outputs": [],
   "source": [
    "import pandas as pd\n",
    "import seaborn as sns\n",
    "import matplotlib.pyplot as plt\n",
    "import scipy.stats as st\n",
    "import numpy as np\n",
    "from scipy.optimize import fsolve\n",
    "import scipy as sc\n",
    "import math\n",
    "from pyteomics import pepxml\n",
    "import random\n",
    "import os\n",
    "import glob\n",
    "from collections import deque\n",
    "import pickle\n",
    "import importlib as imp\n",
    "import lower as low\n",
    "import param_estim as pe\n",
    "imp.reload(low)\n",
    "imp.reload(plt)\n",
    "imp.reload(pe)\n",
    "lows = low.Tools()\n",
    "#lows.universal_ppf(0.7, 5, 0.1, 0.02)"
   ]
  },
  {
   "cell_type": "markdown",
   "metadata": {},
   "source": [
    "1. Load the data\n",
    "2. estimate the parameters from all lower orders by either MM or MLE\n",
    "3. functionality to plot the estimated parameters (beta vs. mu, separate params against order index)\n",
    "4. quantile optimization to find the best parameter mu for given order model (can be 1st, can be lower too)"
   ]
  },
  {
   "cell_type": "code",
   "execution_count": 185,
   "metadata": {},
   "outputs": [],
   "source": [
    "def shift(arr, idx):\n",
    "    return arr[idx] - arr[idx+1]"
   ]
  },
  {
   "cell_type": "code",
   "execution_count": 188,
   "metadata": {},
   "outputs": [
    {
     "data": {
      "text/plain": [
       "[-0.028894771063093752,\n",
       " -0.04032244682142708,\n",
       " -0.056106093470427915,\n",
       " -0.07829286894109844,\n",
       " -0.0971331647551617,\n",
       " -0.11520498478966479,\n",
       " -0.13412845134328022,\n",
       " -0.1542828384118199,\n",
       " -0.17445909906407464]"
      ]
     },
     "execution_count": 188,
     "metadata": {},
     "output_type": "execute_result"
    }
   ],
   "source": [
    "list(map(lambda x: shift(mms[:,0], x), range(9)))"
   ]
  },
  {
   "cell_type": "code",
   "execution_count": 78,
   "metadata": {},
   "outputs": [
    {
     "name": "stdout",
     "output_type": "stream",
     "text": [
      "LinregressResult(slope=0.5531024200986804, intercept=-0.05595440820111474, rvalue=0.9377678281337415, pvalue=6.084576113182941e-05, stderr=0.07241417469851484)\n"
     ]
    },
    {
     "data": {
      "image/png": "[encoded data removed]",
      "text/plain": [
       "<Figure size 360x360 with 1 Axes>"
      ]
     },
     "metadata": {
      "needs_background": "light"
     },
     "output_type": "display_data"
    }
   ],
   "source": [
    "plot_params(n04, a4, 'MM_mubeta')"
   ]
  },
  {
   "cell_type": "code",
   "execution_count": 144,
   "metadata": {},
   "outputs": [
    {
     "data": {
      "text/plain": [
       "Text(0.5, 1.0, 'MM estimates, 3+')"
      ]
     },
     "execution_count": 144,
     "metadata": {},
     "output_type": "execute_result"
    },
    {
     "data": {
      "image/png": "[encoded data removed]",
      "text/plain": [
       "<Figure size 432x432 with 1 Axes>"
      ]
     },
     "metadata": {
      "needs_background": "light"
     },
     "output_type": "display_data"
    }
   ],
   "source": [
    "idx = 0\n",
    "fig = plt.figure(figsize=(6,6))\n",
    "plt.scatter(mms[:,0][3:], mms[:,1][3:])\n",
    "plt.scatter(mms[:,0][3:], mms[:,1][3:])\n",
    "#for x in range(len(mms[:,0][idx:])-1):\n",
    "#    plt.annotate(x+idx+2, (mms[:,0][x+1]+0.000001, mms[:,1][x+1]+0.000001))\n",
    "plt.xlabel(\"mu\")\n",
    "plt.ylabel('beta')\n",
    "#plt.hlines(xmin=min(mms[:,0])-0.000001, xmax=max(mms[:,0])+0.000001, y=0.02, linestyles='--')\n",
    "#plt.xlim(0.116, 0.118)\n",
    "#plt.ylim(0.019, 0.0275)\n",
    "plt.title(\"MM estimates, 3+\")\n",
    "#fig.savefig(f'./graphs/mm_estimates_ch3_gm.png', bbox_inches='tight', dpi=400)"
   ]
  },
  {
   "cell_type": "code",
   "execution_count": 2,
   "metadata": {},
   "outputs": [],
   "source": [
    "#input: pepxml files, output: np arrays (TEV score, charge, N)\n",
    "\n",
    "def parse_pepxmls(paths):\n",
    "\n",
    "    tev = deque()\n",
    "    charges = deque()\n",
    "    big_n  = deque()\n",
    "\n",
    "    for path in paths:\n",
    "        print(path)\n",
    "        cur_file = pepxml.read(path)\n",
    "\n",
    "        for spec in cur_file:\n",
    "            if 'search_hit' in spec.keys():\n",
    "                if len(spec['search_hit']) == 10:\n",
    "                    tev.append(list(map(lambda x: -0.02*np.log(spec['search_hit'][x]['search_score']['expect']/1000), np.arange(10))))\n",
    "                    charges.append(int(spec['assumed_charge']))\n",
    "                    big_n.append(int(spec['search_hit'][0]['num_matched_peptides']))\n",
    "\n",
    "    return tev, charges, big_n"
   ]
  },
  {
   "cell_type": "code",
   "execution_count": 239,
   "metadata": {},
   "outputs": [
    {
     "name": "stdout",
     "output_type": "stream",
     "text": [
      "/data/dominik/lower_order/datasets/mouse/SORT_Prozac_1B.mzXML_18.pep.xml\n"
     ]
    }
   ],
   "source": [
    "#parse the scores from the pepxml files\n",
    "paths = glob.glob(os.path.join(\"/data/dominik/lower_order/datasets/mouse/\", \"*.pep.xml\"))\n",
    "paths\n",
    "#test = pe.Estimation(paths)\n",
    "#test.test_it(2)\n",
    "tev, charges, big_n = parse_pepxmls(paths)"
   ]
  },
  {
   "cell_type": "code",
   "execution_count": 5,
   "metadata": {},
   "outputs": [],
   "source": [
    "pickle.dump(tev, open(\"tev_m.pkl\", \"wb\"))\n",
    "pickle.dump(charges, open(\"charges_m.pkl\", \"wb\"))\n",
    "pickle.dump(big_n, open(\"big_n_m.pkl\", \"wb\"))"
   ]
  },
  {
   "cell_type": "code",
   "execution_count": 12,
   "metadata": {},
   "outputs": [],
   "source": [
    "#get only tevs of selected charge\n",
    "\n",
    "def filter_charge(tev, charges, big_n, ch):\n",
    "    t = np.array(tev)\n",
    "    c = np.array(charges)\n",
    "    n = np.array(big_n)\n",
    "    mask = np.where((c == ch))\n",
    "    return t[mask], n[mask]\n"
   ]
  },
  {
   "cell_type": "code",
   "execution_count": 15,
   "metadata": {},
   "outputs": [
    {
     "ename": "FileNotFoundError",
     "evalue": "[Errno 2] No such file or directory: 'tev_20.pkl'",
     "output_type": "error",
     "traceback": [
      "\u001b[0;31m---------------------------------------------------------------------------\u001b[0m",
      "\u001b[0;31mFileNotFoundError\u001b[0m                         Traceback (most recent call last)",
      "\u001b[0;32m<ipython-input-15-7735a2a491e3>\u001b[0m in \u001b[0;36m<module>\u001b[0;34m\u001b[0m\n\u001b[0;32m----> 1\u001b[0;31m \u001b[0mtev\u001b[0m \u001b[0;34m=\u001b[0m \u001b[0mpickle\u001b[0m\u001b[0;34m.\u001b[0m\u001b[0mload\u001b[0m\u001b[0;34m(\u001b[0m\u001b[0mopen\u001b[0m\u001b[0;34m(\u001b[0m\u001b[0;34m\"tev_20.pkl\"\u001b[0m\u001b[0;34m,\u001b[0m \u001b[0;34m\"rb\"\u001b[0m\u001b[0;34m)\u001b[0m\u001b[0;34m)\u001b[0m\u001b[0;34m\u001b[0m\u001b[0;34m\u001b[0m\u001b[0m\n\u001b[0m\u001b[1;32m      2\u001b[0m \u001b[0mcharges\u001b[0m \u001b[0;34m=\u001b[0m \u001b[0mpickle\u001b[0m\u001b[0;34m.\u001b[0m\u001b[0mload\u001b[0m\u001b[0;34m(\u001b[0m\u001b[0mopen\u001b[0m\u001b[0;34m(\u001b[0m\u001b[0;34m\"charges_20.pkl\"\u001b[0m\u001b[0;34m,\u001b[0m \u001b[0;34m\"rb\"\u001b[0m\u001b[0;34m)\u001b[0m\u001b[0;34m)\u001b[0m\u001b[0;34m\u001b[0m\u001b[0;34m\u001b[0m\u001b[0m\n\u001b[1;32m      3\u001b[0m \u001b[0mbig_n\u001b[0m \u001b[0;34m=\u001b[0m \u001b[0mpickle\u001b[0m\u001b[0;34m.\u001b[0m\u001b[0mload\u001b[0m\u001b[0;34m(\u001b[0m\u001b[0mopen\u001b[0m\u001b[0;34m(\u001b[0m\u001b[0;34m\"big_n_20.pkl\"\u001b[0m\u001b[0;34m,\u001b[0m \u001b[0;34m\"rb\"\u001b[0m\u001b[0;34m)\u001b[0m\u001b[0;34m)\u001b[0m\u001b[0;34m\u001b[0m\u001b[0;34m\u001b[0m\u001b[0m\n",
      "\u001b[0;31mFileNotFoundError\u001b[0m: [Errno 2] No such file or directory: 'tev_20.pkl'"
     ]
    }
   ],
   "source": [
    "tev = pickle.load(open(\"tev_20.pkl\", \"rb\"))\n",
    "charges = pickle.load(open(\"charges_20.pkl\", \"rb\"))\n",
    "big_n = pickle.load(open(\"big_n_20.pkl\", \"rb\"))"
   ]
  },
  {
   "cell_type": "code",
   "execution_count": null,
   "metadata": {},
   "outputs": [],
   "source": [
    "new_tev = list(map(lambda x: -0.02*np.log(500*np.exp(-x/-0.02)/10), tev3))"
   ]
  },
  {
   "cell_type": "code",
   "execution_count": null,
   "metadata": {},
   "outputs": [],
   "source": [
    "new_tev = -0.02*np.log(500*np.exp(-tev3/0.02)/10)"
   ]
  },
  {
   "cell_type": "code",
   "execution_count": 240,
   "metadata": {},
   "outputs": [],
   "source": [
    "\n",
    "tev3, n3  = filter_charge(tev, charges, big_n, 3)\n",
    "tev2, n2  = filter_charge(tev, charges, big_n, 2)\n",
    "tev4, n4  = filter_charge(tev, charges, big_n, 4)"
   ]
  },
  {
   "cell_type": "markdown",
   "id": "dbaf9f70",
   "metadata": {},
   "source": []
  },
  {
   "cell_type": "code",
   "execution_count": 16,
   "metadata": {},
   "outputs": [
    {
     "data": {
      "text/plain": [
       "679"
      ]
     },
     "execution_count": 16,
     "metadata": {},
     "output_type": "execute_result"
    }
   ],
   "source": [
    "len(tev4)"
   ]
  },
  {
   "cell_type": "code",
   "execution_count": null,
   "metadata": {},
   "outputs": [],
   "source": [
    "pickle.dump(big_n, open(\"big_n_dhp.pkl\", \"wb\"))"
   ]
  },
  {
   "cell_type": "code",
   "execution_count": 17,
   "metadata": {},
   "outputs": [],
   "source": [
    "#1 objective 1: estimate parameters for each hit separately, then plot the linear regression\n",
    "def lower_params(arr):\n",
    "    n0 = []\n",
    "    a = []\n",
    "\n",
    "    for hit in range(10):\n",
    "        #if hit == 0: continue\n",
    "        #print(hit)\n",
    "        cur_tev = arr[:,hit].astype('float128')\n",
    "        cur_tev = sorted(cur_tev)\n",
    "        length = len(cur_tev)\n",
    "        #cur_tev = cur_tev[int(length*0.05):int(length*0.95)]\n",
    "        cur_n0, cur_a = lows.mle_new(cur_tev, hit)\n",
    "        n0.append(cur_n0)\n",
    "        a.append(cur_a)\n",
    "    return n0, a\n",
    "\n",
    "def plot_fitted( arr, N0, a, alpha, col='blue', frac=1, bins=500):\n",
    "    sorted_arr = np.array(sorted(arr))\n",
    "    l_lim = sorted_arr[0]\n",
    "    u_lim = sorted_arr[-1]\n",
    "    pdf = lows.pdf_mubeta(sorted_arr, N0, a, alpha)\n",
    "    plt.plot(sorted_arr, frac*pdf,color=col)\n",
    "    sns.distplot(sorted_arr, bins = np.linspace(0, 0.8, bins), kde=False, norm_hist=True,\n",
    "                hist_kws=dict(histtype='step', linewidth=1, color='black'))\n",
    "    #ax.set_xlim(l_lim, u_lim)\n",
    "    plt.xlim(l_lim, u_lim)\n",
    "    \n",
    "    \n",
    "\n",
    "def plot_fit(ax, arr, N0, a, alpha, col='blue', frac=1, bins=500):\n",
    "    sorted_arr = np.array(sorted(arr))\n",
    "    l_lim = sorted_arr[0]\n",
    "    u_lim = sorted_arr[-1]\n",
    "    pdf = lows.pdf_mubeta(sorted_arr, N0, a, alpha)\n",
    "    ax.plot(sorted_arr, frac*pdf,color=col)\n",
    "    ax.hist(sorted_arr, bins = np.linspace(0, 0.8, bins), histtype='step', density=True)\n",
    "    median = np.median(sorted_arr)\n",
    "    ax.vlines(x=median, ymin=0, ymax=20)\n",
    "    #ax.set_xlim(l_lim, u_lim)\n",
    "    ax.set_xlim(0, 0.3)\n",
    "\n",
    "def plot_params(n0, a, outname = \"\", xxx=0):\n",
    "\n",
    "    trim_n0 = list(n0)\n",
    "    trim_a = list(a)\n",
    "    linreg = st.linregress(trim_n0, trim_a)\n",
    "    print(linreg)\n",
    "\n",
    "    fig = plt.figure(figsize=(5,5))\n",
    "    plt.scatter(trim_n0, trim_a, marker='o', color='royalblue')\n",
    "    plt.plot([min(trim_n0), max(trim_n0)], \n",
    "                [min(trim_n0)*linreg.slope + linreg.intercept, \n",
    "                max(trim_n0)*linreg.slope + linreg.intercept], color='grey')\n",
    "    plt.xlabel('mu')\n",
    "    plt.ylabel(\"beta\")\n",
    "    plt.xlim(min(trim_n0)-0.001, max(trim_n0)+0.001)\n",
    "    \n",
    "    for x in range(len(trim_n0)):\n",
    "        plt.annotate(x+xxx, (trim_n0[x]+0.00001, trim_a[x]+0.00003))\n",
    "        \n",
    "    #plt.hlines(xmin=min(trim_n0)-0.0001, xmax=max(trim_n0)+0.0001, y=0.02, linestyles='--')\n",
    "\n",
    "    if outname != \"\":\n",
    "        fig.savefig(f'./graphs/{outname}.png', bbox_inches='tight', dpi=400)"
   ]
  },
  {
   "cell_type": "code",
   "execution_count": 241,
   "metadata": {},
   "outputs": [],
   "source": [
    "def get_params(tevs):\n",
    "    n0, a = lower_params(tevs)\n",
    "    trim_n0 = list(n0)[2:]\n",
    "    trim_a = list(a)[2:]\n",
    "    linreg = st.linregress(trim_n0, trim_a)\n",
    "\n",
    "    return n0, a, linreg\n",
    "\n",
    "n03, a3, linreg3 = get_params(tev3)\n",
    "n02, a2, linreg2 = get_params(tev2)\n",
    "n04, a4, linreg4 = get_params(tev4)\n",
    "#linreg\n",
    "#n1, a1 = np.log(np.log(n02)), np.log(-np.array(a2))\n"
   ]
  },
  {
   "cell_type": "code",
   "execution_count": 242,
   "metadata": {},
   "outputs": [
    {
     "data": {
      "text/plain": [
       "<matplotlib.legend.Legend at 0x7fa7a36086d0>"
      ]
     },
     "execution_count": 242,
     "metadata": {},
     "output_type": "execute_result"
    },
    {
     "data": {
      "image/png": "[encoded data removed]",
      "text/plain": [
       "<Figure size 360x360 with 1 Axes>"
      ]
     },
     "metadata": {
      "needs_background": "light"
     },
     "output_type": "display_data"
    }
   ],
   "source": [
    "fig, ax = plt.subplots(figsize=(5,5))\n",
    "x=3\n",
    "ax.scatter(n02[x:], a2[x:])\n",
    "ax.scatter(n03[x:], a3[x:])\n",
    "#plt.scatter(best_mu, best_beta)\n",
    "ax.scatter(n04[x:], a4[x:])\n",
    "ax.set_xlabel(\"mu\")\n",
    "ax.set_ylabel(\"beta\")\n",
    "ax.set_title(\"3 Da + 1 Da (offset 0.4 Da)\")\n",
    "ax.legend(['2+', '3+', '4+'])\n",
    "#ax.set_xlim(0.)\n",
    "#fig.savefig('PT_26_3Da_1Da__scatter.png', dpi=400, bbox_inches='tight')\n",
    "#plt.hlines(xmin=0.12, xmax=0.135, y=0.02)"
   ]
  },
  {
   "cell_type": "code",
   "execution_count": 20,
   "metadata": {},
   "outputs": [],
   "source": [
    "opt_a  = np.mean([a4[-3:], a3[-3:]])"
   ]
  },
  {
   "cell_type": "code",
   "execution_count": 39,
   "metadata": {},
   "outputs": [
    {
     "data": {
      "text/plain": [
       "0"
      ]
     },
     "execution_count": 39,
     "metadata": {},
     "output_type": "execute_result"
    }
   ],
   "source": [
    "len(tev4)"
   ]
  },
  {
   "cell_type": "code",
   "execution_count": 269,
   "metadata": {},
   "outputs": [],
   "source": [
    "def get_mm(tev):\n",
    "\n",
    "    mms = np.zeros((10,2))\n",
    "\n",
    "    for i in range(10):\n",
    "        mms[i,:]= lows.mm_estimator(tev[:,i], i)\n",
    "    return mms\n",
    "\n",
    "m2 = get_mm(tev2)\n",
    "m3 = get_mm(tev3)\n",
    "m4 = get_mm(tev4)"
   ]
  },
  {
   "cell_type": "code",
   "execution_count": 289,
   "id": "0dc0143a",
   "metadata": {},
   "outputs": [
    {
     "data": {
      "text/plain": [
       "(0.115, 0.12)"
      ]
     },
     "execution_count": 289,
     "metadata": {},
     "output_type": "execute_result"
    },
    {
     "data": {
      "image/png": "[encoded data removed]",
      "text/plain": [
       "<Figure size 432x288 with 1 Axes>"
      ]
     },
     "metadata": {
      "needs_background": "light"
     },
     "output_type": "display_data"
    }
   ],
   "source": [
    "plt.scatter(mms[:,0], mms[:,1])\n",
    "plt.xlim(0.115, 0.120)"
   ]
  },
  {
   "cell_type": "code",
   "execution_count": null,
   "id": "a816beec",
   "metadata": {},
   "outputs": [],
   "source": []
  },
  {
   "cell_type": "code",
   "execution_count": 212,
   "metadata": {},
   "outputs": [
    {
     "data": {
      "image/png": "[encoded data removed]",
      "text/plain": [
       "<Figure size 576x576 with 9 Axes>"
      ]
     },
     "metadata": {
      "needs_background": "light"
     },
     "output_type": "display_data"
    }
   ],
   "source": [
    "#plot_fitted(tev2[:,sss], n03[sss], a3[sss], sss, col='blue', frac=1, bins=1000)\n",
    "fig, ax = plt.subplots(3,3, figsize=(8,8))\n",
    "sss =1\n",
    "for row in range(3):\n",
    "    for col in range(3):\n",
    "        plot_fit(ax[row%3, col],tev3[:,sss], n03[sss], a3[sss], sss, col='blue', frac=1, bins=500)\n",
    "        sss += 1\n",
    "#fig.savefig('smalltcells_ch2_lowerhits.png', dpi=400, bbox_inches='tight')\n",
    "#plt.xlim(0, 0.2)"
   ]
  },
  {
   "cell_type": "code",
   "execution_count": 245,
   "metadata": {},
   "outputs": [
    {
     "data": {
      "image/png": "[encoded data removed]",
      "text/plain": [
       "<Figure size 576x576 with 9 Axes>"
      ]
     },
     "metadata": {
      "needs_background": "light"
     },
     "output_type": "display_data"
    }
   ],
   "source": [
    "#plot_fitted(tev2[:,sss], n03[sss], a3[sss], sss, col='blue', frac=1, bins=1000)\n",
    "fig, ax = plt.subplots(3,3, figsize=(8,8))\n",
    "sss =1\n",
    "for row in range(3):\n",
    "    for col in range(3):\n",
    "        plot_fit(ax[row%3, col],tev3[:,sss], n03[sss], a3[sss], sss, col='blue', frac=1, bins=500)\n",
    "        sss += 1\n",
    "#fig.savefig('yeast_3Da_1Da_f_lowerhits.png', dpi=400, bbox_inches='tight')\n",
    "#plt.xlim(0, 0.2)"
   ]
  },
  {
   "cell_type": "code",
   "execution_count": 244,
   "metadata": {},
   "outputs": [
    {
     "name": "stdout",
     "output_type": "stream",
     "text": [
      "LinregressResult(slope=0.11841991752320757, intercept=0.016822258852427913, rvalue=0.9920276601349408, pvalue=1.2592067296676128e-06, stderr=0.006141379459760797, intercept_stderr=0.0007385232192472775)\n"
     ]
    },
    {
     "data": {
      "image/png": "[encoded data removed]",
      "text/plain": [
       "<Figure size 360x360 with 1 Axes>"
      ]
     },
     "metadata": {
      "needs_background": "light"
     },
     "output_type": "display_data"
    }
   ],
   "source": [
    "#plot_params(n02, a2)\n",
    "nnn = 2\n",
    "#plot_params(mms[:,0][nnn:], mms[:,1][nnn:], 'test', nnn+1)\n",
    "plot_params(n02[nnn:], a2[nnn:], 'test', nnn+1)\n",
    "#plt.scatter(best_mu, best_beta, marker=\"*\")\n",
    "#plt.savefig(f\"./graphs/smalltcells_ch2_scatter.png\", dpi=600,bbox_inches='tight')"
   ]
  },
  {
   "cell_type": "code",
   "execution_count": 51,
   "metadata": {},
   "outputs": [
    {
     "data": {
      "text/plain": [
       "0.020003266329809807"
      ]
     },
     "execution_count": 51,
     "metadata": {},
     "output_type": "execute_result"
    }
   ],
   "source": [
    "best_beta"
   ]
  },
  {
   "cell_type": "code",
   "execution_count": null,
   "metadata": {},
   "outputs": [],
   "source": [
    "fig = plt.figure(figsize=(5,5))\n",
    "sns.distplot(n3, bins = 50, kde=False, norm_hist=False,\n",
    "                hist_kws=dict(histtype='stepfilled', linewidth=1, color='blue'))\n",
    "plt.xlabel(\"# candidates for each spectrum\")\n",
    "plt.ylabel(\"counts\")\n",
    "plt.title(\"candidates for 3+ spectra\")\n",
    "plt.savefig(f\"./graphs/n3.png\", dpi=600,bbox_inches='tight')\n",
    "#plt.xlim(0, 0.2)"
   ]
  },
  {
   "cell_type": "code",
   "execution_count": null,
   "metadata": {},
   "outputs": [],
   "source": [
    "#plt.scatter(n022[2:], a22[2:])\n",
    "fig = plt.figure(figsize=(6,6))\n",
    "plt.scatter(n02[3:], a2[3:], marker=\"*\")\n",
    "plt.scatter(n03[3:], a3[3:], marker=\"*\")\n",
    "#plt.scatter(n044[3:], a44[3:], marker=\"*\")\n",
    "plt.legend(['2+', '3+', '4+'])\n",
    "plt.xlabel(\"N0\")\n",
    "plt.ylabel(\"a\")\n",
    "#plt.savefig(\"./graphs/comparison_params.png\", dpi=600, bbox_inches='tight')\n",
    "#plt.scatter(n034[2:], a34[2:])"
   ]
  },
  {
   "cell_type": "code",
   "execution_count": null,
   "metadata": {},
   "outputs": [],
   "source": [
    "from scipy.optimize import curve_fit\n",
    "\n",
    "def test_function(x, a, b):\n",
    "    #return np.multiply(np.power(x,0.5),a) + np.multiply(x, b) + c\n",
    "    return a*np.log(x) + b\n",
    "\n",
    "popt, pcov = curve_fit(test_function, range(1,10, n0all)\n",
    "plt.plot(np.linspace(0,9, 100), test_function(np.linspace(0,9, 100), *popt))\n",
    "plt.scatter(range(10), n0all)"
   ]
  },
  {
   "cell_type": "code",
   "execution_count": 29,
   "metadata": {},
   "outputs": [],
   "source": [
    "def plot_sam(tev, n0, a, idx, tit, bins=800):\n",
    "    fig = plt.figure(figsize=(6,6))\n",
    "    cur_tev = tev[:,idx]\n",
    "    plot_fitted(cur_tev, n0[idx], a[idx], alpha=idx, frac=1, bins=bins)\n",
    "    #plt.xlim(0, 0.4)\n",
    "    plt.xlabel(\"TEV\")\n",
    "    plt.text(x=0.15, y=15, s=f\"N0: {n0[idx]:.3f}\")\n",
    "    plt.text(x=0.15, y=13, s=f\"a: {a[idx]:.3f}\")\n",
    "    plt.ylabel(\"density\")\n",
    "    plt.title(f\"{tit}\")\n",
    "    plt.savefig(f\"./graphs/covid_{idx}_tev3_testing1.png\", dpi=600, bbox_inches = 'tight')"
   ]
  },
  {
   "cell_type": "code",
   "execution_count": 243,
   "metadata": {},
   "outputs": [
    {
     "name": "stderr",
     "output_type": "stream",
     "text": [
      "/data/dominik/anaconda3/lib/python3.8/site-packages/seaborn/distributions.py:2557: FutureWarning: `distplot` is a deprecated function and will be removed in a future version. Please adapt your code to use either `displot` (a figure-level function with similar flexibility) or `histplot` (an axes-level function for histograms).\n",
      "  warnings.warn(msg, FutureWarning)\n",
      "/data/dominik/anaconda3/lib/python3.8/site-packages/seaborn/distributions.py:2557: FutureWarning: `distplot` is a deprecated function and will be removed in a future version. Please adapt your code to use either `displot` (a figure-level function with similar flexibility) or `histplot` (an axes-level function for histograms).\n",
      "  warnings.warn(msg, FutureWarning)\n",
      "/data/dominik/anaconda3/lib/python3.8/site-packages/seaborn/distributions.py:2557: FutureWarning: `distplot` is a deprecated function and will be removed in a future version. Please adapt your code to use either `displot` (a figure-level function with similar flexibility) or `histplot` (an axes-level function for histograms).\n",
      "  warnings.warn(msg, FutureWarning)\n"
     ]
    },
    {
     "data": {
      "image/png": "[encoded data removed]",
      "text/plain": [
       "<Figure size 432x432 with 1 Axes>"
      ]
     },
     "metadata": {
      "needs_background": "light"
     },
     "output_type": "display_data"
    },
    {
     "data": {
      "image/png": "[encoded data removed]",
      "text/plain": [
       "<Figure size 432x432 with 1 Axes>"
      ]
     },
     "metadata": {
      "needs_background": "light"
     },
     "output_type": "display_data"
    },
    {
     "data": {
      "image/png": "[encoded data removed]",
      "text/plain": [
       "<Figure size 432x432 with 1 Axes>"
      ]
     },
     "metadata": {
      "needs_background": "light"
     },
     "output_type": "display_data"
    }
   ],
   "source": [
    "xxx = 0\n",
    "plot_sam(tev2, n02, a2, xxx, '6th hit', bins=300)\n",
    "plot_sam(tev3, n03, a3, xxx, '6th hit', bins=300)\n",
    "plot_sam(tev4, n04, a4, xxx, '6th hit', bins=300)"
   ]
  },
  {
   "cell_type": "code",
   "execution_count": 46,
   "metadata": {},
   "outputs": [
    {
     "data": {
      "text/plain": [
       "<matplotlib.collections.LineCollection at 0x7fdd409855c0>"
      ]
     },
     "execution_count": 46,
     "metadata": {},
     "output_type": "execute_result"
    },
    {
     "data": {
      "image/png": "[encoded data removed]",
      "text/plain": [
       "<Figure size 432x288 with 1 Axes>"
      ]
     },
     "metadata": {
      "needs_background": "light"
     },
     "output_type": "display_data"
    }
   ],
   "source": [
    "plt.scatter(np.arange(10), a2)\n",
    "plt.plot(np.arange(10), a2)\n",
    "plt.hlines(y=0.02, xmax=9, xmin=0)"
   ]
  },
  {
   "cell_type": "code",
   "execution_count": 233,
   "metadata": {},
   "outputs": [
    {
     "data": {
      "text/plain": [
       "0.13815510557964275"
      ]
     },
     "execution_count": 233,
     "metadata": {},
     "output_type": "execute_result"
    }
   ],
   "source": [
    "np.log(1000)*0.02"
   ]
  },
  {
   "cell_type": "code",
   "execution_count": 50,
   "metadata": {},
   "outputs": [],
   "source": [
    "# generate quantiles\n",
    "def get_quantiles(tev, outname):\n",
    "\n",
    "    emps = sorted(tev)\n",
    "    emps_df = pd.DataFrame(emps)\n",
    "\n",
    "    emps_df[1] = emps_df.index + 1\n",
    "    emps_df[2] = emps_df[1]/len(emps)\n",
    "\n",
    "    #quantile optimization\n",
    "    errors = []\n",
    "    qq_range = np.linspace(50, 400, 1000)\n",
    "    for i in qq_range:\n",
    "        cur_a = i*linreg.slope + linreg.intercept\n",
    "        theor_q = lows.gumbel_ppf(emps_df[2].to_numpy()[:-1], i, cur_a)\n",
    "        diffs = theor_q - emps_df[0].to_numpy()[:-1]\n",
    "\n",
    "        length = len(emps_df[2][emps_df[2] < 0.17])\n",
    "\n",
    "        \"\"\"\n",
    "        diffs = abs(np.sum(diffs[:int(0.2*len(diffs))]))\n",
    "        diffs = diffs/len(theor_q[:int(0.2*len(theor_q))])\n",
    "        \"\"\"\n",
    "\n",
    "        diffs = abs(np.sum(diffs[:length]))\n",
    "        diffs = diffs/len(theor_q[:length])\n",
    "\n",
    "        #diffs = abs(np.sum(diffs))/len(diffs)\n",
    "        errors.append(diffs)\n",
    "\n",
    "    opt_idx = errors.index(min(errors))\n",
    "    opt_N0 = qq_range[opt_idx]\n",
    "    opt_a = opt_N0*linreg.slope + linreg.intercept\n",
    "\n",
    "    fig = plt.figure(figsize=(6,6))\n",
    "    plt.semilogy(qq_range, errors)\n",
    "    plt.scatter(qq_range, errors, s=1)\n",
    "    #plt.xlim(60,70)\n",
    "    plt.xlabel(\"N0\")\n",
    "    plt.ylabel(\"loss\")\n",
    "    plt.savefig(f\"./graphs/1{outname}.png\", dpi=600, bbox_inches='tight')\n",
    "\n",
    "    theor_q = lows.gumbel_ppf(emps_df[2].to_numpy()[:-1], opt_N0, opt_a)\n",
    "    emps_q = emps_df[0].to_numpy()[:-1]\n",
    "\n",
    "    fig1 = plt.figure(figsize=(6,6))\n",
    "    plt.plot([0, 1], [0, 1], color='k')\n",
    "    plt.scatter(theor_q, emps_q, s=3)\n",
    "\n",
    "    plt.xlim(0, 0.2)\n",
    "    plt.ylim(0, 0.2)\n",
    "    plt.xlabel(\"theoretical quantile\")\n",
    "    plt.ylabel('empirical quantile')\n",
    "    plt.savefig(f\"./graphs/2{outname}.png\", dpi=600, bbox_inches='tight')\n",
    "\n",
    "    print(opt_N0, opt_a)\n",
    "\n",
    "    "
   ]
  },
  {
   "cell_type": "code",
   "execution_count": 54,
   "metadata": {},
   "outputs": [],
   "source": [
    "combined = lambda p: universal_ppf(p, 1, 0.1, 0.02)"
   ]
  },
  {
   "cell_type": "code",
   "execution_count": 146,
   "metadata": {},
   "outputs": [],
   "source": [
    "# generate quantiles\n",
    "def get_quantiles(tev, outname, opt_a, linreg):\n",
    "\n",
    "    emps = sorted(tev)\n",
    "    emps_df = pd.DataFrame(emps)\n",
    "\n",
    "    emps_df[1] = emps_df.index + 1\n",
    "    emps_df[2] = emps_df[1]/len(emps)\n",
    "\n",
    "    #quantile optimization\n",
    "    errors = []\n",
    "    qq_range = np.linspace(0.05, 0.4, 500)\n",
    "    #opt_a = np.mean(mms[:,1][-3:])\n",
    "    for i in qq_range:\n",
    "        #cur_a = i*linreg.slope + linreg.intercept\n",
    "        cur_a = opt_a\n",
    "        \n",
    "        theor_q = lows.gumbel_new_ppf(emps_df[2].to_numpy()[:-1], i, cur_a)\n",
    "        \n",
    "        \n",
    "        #print(i, cur_a)\n",
    "        diffs = theor_q - emps_df[0].to_numpy()[:-1]\n",
    "\n",
    "        length = len(emps_df[2][emps_df[2] < 0.2])\n",
    "        \n",
    "        \"\"\"\n",
    "        diffs = abs(np.sum(diffs[:int(0.2*len(diffs))]))\n",
    "        diffs = diffs/len(theor_q[:int(0.2*len(theor_q))])\n",
    "        \"\"\"\n",
    "\n",
    "        diffs = abs(np.sum(diffs[:length]))\n",
    "        diffs = diffs/len(theor_q[:length])\n",
    "\n",
    "        #diffs = abs(np.sum(diffs))/len(diffs)\n",
    "        errors.append(diffs)\n",
    "\n",
    "    opt_idx = errors.index(min(errors))\n",
    "    opt_N0 = qq_range[opt_idx]\n",
    "    #opt_a = opt_N0*linreg.slope + linreg.intercept\n",
    "    fig = plt.figure(figsize=(6,6))\n",
    "    plt.semilogy(qq_range, errors)\n",
    "    plt.scatter(qq_range, errors, s=1)\n",
    "    #plt.xlim(60,70)\n",
    "    plt.xlabel(\"mu\")\n",
    "    plt.ylabel(\"loss\")\n",
    "    plt.savefig(f\"./graphs/1{outname}.png\", dpi=600, bbox_inches='tight')\n",
    "\n",
    "    theor_q = lows.gumbel_new_ppf(emps_df[2].to_numpy()[:-1], opt_N0, opt_a)\n",
    "    emps_q = emps_df[0].to_numpy()[:-1]\n",
    "\n",
    "    fig1 = plt.figure(figsize=(6,6))\n",
    "    plt.plot([0, 1], [0, 1], color='k')\n",
    "    plt.scatter(theor_q, emps_q, s=2)\n",
    "\n",
    "    plt.xlim(0, 0.2)\n",
    "    plt.ylim(0, 0.2)\n",
    "    plt.xlabel(\"theoretical quantile\")\n",
    "    plt.ylabel('empirical quantile')\n",
    "    plt.savefig(f\"./graphs/2{outname}.png\", dpi=600, bbox_inches='tight')\n",
    "    print(opt_N0, opt_a)\n",
    "    return opt_N0, opt_a\n",
    "\n",
    "    "
   ]
  },
  {
   "cell_type": "code",
   "execution_count": 270,
   "metadata": {},
   "outputs": [],
   "source": [
    "# generate quantiles\n",
    "def get_quantiles(tev, outname, opt_a, linreg):\n",
    "\n",
    "    emps = sorted(tev)\n",
    "    emps_df = pd.DataFrame(emps)\n",
    "\n",
    "    emps_df[1] = emps_df.index + 1\n",
    "    emps_df[2] = emps_df[1]/len(emps)\n",
    "\n",
    "    #quantile optimization\n",
    "    errors = []\n",
    "    qq_range = np.linspace(0.05, 0.4, 500)\n",
    "    #opt_a = np.mean(mms[:,1][-3:])\n",
    "    for i in qq_range:\n",
    "        #cur_a = i*linreg.slope + linreg.intercept\n",
    "        cur_a = opt_a\n",
    "        theor_q = lows.gumbel_new_ppf(emps_df[2].to_numpy()[:-1], i, cur_a)\n",
    "        #print(i, cur_a)\n",
    "        diffs = theor_q - emps_df[0].to_numpy()[:-1]\n",
    "\n",
    "        length = len(emps_df[2][emps_df[2] < 0.2])\n",
    "        \n",
    "        \"\"\"\n",
    "        diffs = abs(np.sum(diffs[:int(0.2*len(diffs))]))\n",
    "        diffs = diffs/len(theor_q[:int(0.2*len(theor_q))])\n",
    "        \"\"\"\n",
    "\n",
    "        diffs = abs(np.sum(diffs[:length]))\n",
    "        diffs = diffs/len(theor_q[:length])\n",
    "\n",
    "        #diffs = abs(np.sum(diffs))/len(diffs)\n",
    "        errors.append(diffs)\n",
    "\n",
    "    opt_idx = errors.index(min(errors))\n",
    "    opt_N0 = qq_range[opt_idx]\n",
    "    #opt_a = opt_N0*linreg.slope + linreg.intercept\n",
    "    fig = plt.figure(figsize=(6,6))\n",
    "    plt.semilogy(qq_range, errors)\n",
    "    plt.scatter(qq_range, errors, s=1)\n",
    "    #plt.xlim(60,70)\n",
    "    plt.xlabel(\"mu\")\n",
    "    plt.ylabel(\"loss\")\n",
    "    plt.savefig(f\"./graphs/1{outname}.png\", dpi=600, bbox_inches='tight')\n",
    "\n",
    "    theor_q = lows.gumbel_new_ppf(emps_df[2].to_numpy()[:-1], opt_N0, opt_a)\n",
    "    emps_q = emps_df[0].to_numpy()[:-1]\n",
    "\n",
    "    fig1 = plt.figure(figsize=(6,6))\n",
    "    plt.plot([0, 1], [0, 1], color='k')\n",
    "    plt.scatter(theor_q, emps_q, s=2)\n",
    "\n",
    "    plt.xlim(0, 0.2)\n",
    "    plt.ylim(0, 0.2)\n",
    "    plt.xlabel(\"theoretical quantile\")\n",
    "    plt.ylabel('empirical quantile')\n",
    "    plt.savefig(f\"./graphs/2{outname}.png\", dpi=600, bbox_inches='tight')\n",
    "    print(opt_N0, opt_a)\n",
    "    return opt_N0, opt_a\n",
    "\n",
    "    "
   ]
  },
  {
   "cell_type": "code",
   "execution_count": 250,
   "metadata": {},
   "outputs": [],
   "source": [
    "# generate quantiles\n",
    "def get_quantiles(tev, outname, opt_a, linreg):\n",
    "\n",
    "    emps = sorted(tev)\n",
    "    emps_df = pd.DataFrame(emps)\n",
    "\n",
    "    emps_df[1] = emps_df.index + 1\n",
    "    emps_df[2] = emps_df[1]/len(emps)\n",
    "\n",
    "    #quantile optimization\n",
    "    errors = []\n",
    "    qq_range = np.linspace(0.05, 0.4, 500)\n",
    "    #opt_a = np.mean(mms[:,1][-3:])\n",
    "    for i in qq_range:\n",
    "        cur_a = i*linreg.slope + linreg.intercept\n",
    "        #cur_a = opt_a\n",
    "        theor_q = lows.gumbel_new_ppf(emps_df[2].to_numpy()[:-1], i, cur_a)\n",
    "        #print(i, cur_a)\n",
    "        diffs = theor_q - emps_df[0].to_numpy()[:-1]\n",
    "\n",
    "        length = len(emps_df[2][emps_df[2] < 0.1])\n",
    "        \n",
    "        \"\"\"\n",
    "        diffs = abs(np.sum(diffs[:int(0.2*len(diffs))]))\n",
    "        diffs = diffs/len(theor_q[:int(0.2*len(theor_q))])\n",
    "        \"\"\"\n",
    "\n",
    "        diffs = abs(np.sum(diffs[:length]))\n",
    "        diffs = diffs/len(theor_q[:length])\n",
    "\n",
    "        #diffs = abs(np.sum(diffs))/len(diffs)\n",
    "        errors.append(diffs)\n",
    "\n",
    "    opt_idx = errors.index(min(errors))\n",
    "    opt_N0 = qq_range[opt_idx]\n",
    "    opt_a = opt_N0*linreg.slope + linreg.intercept\n",
    "    fig = plt.figure(figsize=(6,6))\n",
    "    plt.semilogy(qq_range, errors)\n",
    "    plt.scatter(qq_range, errors, s=1)\n",
    "    #plt.xlim(60,70)\n",
    "    plt.xlabel(\"mu\")\n",
    "    plt.ylabel(\"loss\")\n",
    "    plt.savefig(f\"./graphs/1{outname}.png\", dpi=600, bbox_inches='tight')\n",
    "\n",
    "    theor_q = lows.gumbel_new_ppf(emps_df[2].to_numpy()[:-1], opt_N0, opt_a)\n",
    "    emps_q = emps_df[0].to_numpy()[:-1]\n",
    "\n",
    "    fig1 = plt.figure(figsize=(6,6))\n",
    "    plt.plot([0, 1], [0, 1], color='k')\n",
    "    plt.scatter(theor_q, emps_q, s=2)\n",
    "\n",
    "    plt.xlim(0, 0.2)\n",
    "    plt.ylim(0, 0.2)\n",
    "    plt.xlabel(\"theoretical quantile\")\n",
    "    plt.ylabel('empirical quantile')\n",
    "    plt.savefig(f\"./graphs/2{outname}.png\", dpi=600, bbox_inches='tight')\n",
    "    print(opt_N0, opt_a)\n",
    "    return opt_N0, opt_a\n",
    "\n",
    "    "
   ]
  },
  {
   "cell_type": "code",
   "execution_count": 285,
   "metadata": {},
   "outputs": [
    {
     "name": "stdout",
     "output_type": "stream",
     "text": [
      "0.11172344689378759 0.021515944288914766\n"
     ]
    },
    {
     "data": {
      "image/png": "[encoded data removed]",
      "text/plain": [
       "<Figure size 432x432 with 1 Axes>"
      ]
     },
     "metadata": {
      "needs_background": "light"
     },
     "output_type": "display_data"
    },
    {
     "data": {
      "image/png": "[encoded data removed]",
      "text/plain": [
       "<Figure size 432x432 with 1 Axes>"
      ]
     },
     "metadata": {
      "needs_background": "light"
     },
     "output_type": "display_data"
    }
   ],
   "source": [
    "best_mu, best_beta = get_quantiles(tev4[:,0], 'test', np.mean(m4[:,1][-3:]), linreg3)"
   ]
  },
  {
   "cell_type": "code",
   "execution_count": 288,
   "metadata": {},
   "outputs": [
    {
     "name": "stderr",
     "output_type": "stream",
     "text": [
      "/data/dominik/anaconda3/lib/python3.8/site-packages/seaborn/distributions.py:2557: FutureWarning: `distplot` is a deprecated function and will be removed in a future version. Please adapt your code to use either `displot` (a figure-level function with similar flexibility) or `histplot` (an axes-level function for histograms).\n",
      "  warnings.warn(msg, FutureWarning)\n"
     ]
    },
    {
     "data": {
      "text/plain": [
       "Text(0, 0.5, 'density')"
      ]
     },
     "execution_count": 288,
     "metadata": {},
     "output_type": "execute_result"
    },
    {
     "data": {
      "image/png": "[encoded data removed]",
      "text/plain": [
       "<Figure size 432x432 with 1 Axes>"
      ]
     },
     "metadata": {
      "needs_background": "light"
     },
     "output_type": "display_data"
    }
   ],
   "source": [
    "idx = 0\n",
    "fig = plt.figure(figsize=(6,6))\n",
    "#plot_fitted(tev3[:,idx], 323.3226452905812, -0.019269727693981706, idx, col='orange', frac=0.78)\n",
    "#plot_fitted(tev3[:,idx], 387.3867735470942, -0.01798203934914556, idx, frac=0.72)\n",
    "#plot_fitted(tev2[:,idx], 387.3867735470942, -0.01798203934914556, idx, frac=0.58)\n",
    "#plot_fitted(tev2[:,idx], 57.0561122244489, -0.02925903843616671, idx, frac=1)\n",
    "\n",
    "#plot_fitted(tev3[:,idx], 0.10350701402805612  , 0.02022161, idx, col='orange', frac=0.8)\n",
    "plot_fitted(tev4[:,idx], best_mu , best_beta, idx, col='green', frac=0.95, bins=300)\n",
    "\n",
    "#plot_fitted(tev3[:,idx], 355.3547094188377, -0.018625883521563632, idx, frac=0.75)\n",
    "plt.xlim(0.0, 0.6)\n",
    "plt.xlabel(\"TEV\")\n",
    "plt.ylabel(\"density\")\n",
    "#plt.legend([\"\", \"theoretical\"])\n",
    "#plt.savefig(\"./graphs/fitted_PT_26_ch2_mean.png\", dpi=600, bbox_inches=\"tight\")"
   ]
  },
  {
   "cell_type": "code",
   "execution_count": 276,
   "metadata": {},
   "outputs": [
    {
     "data": {
      "text/plain": [
       "array([0.07337922, 0.03433709, 0.02967664, 0.02851138, 0.02796005,\n",
       "       0.02787068, 0.02801653, 0.0282561 , 0.02846568, 0.02876657])"
      ]
     },
     "execution_count": 276,
     "metadata": {},
     "output_type": "execute_result"
    }
   ],
   "source": [
    "m3[:,1]"
   ]
  },
  {
   "cell_type": "code",
   "execution_count": 30,
   "metadata": {},
   "outputs": [],
   "source": [
    "best_beta = np.mean(mms[:,1][7:])"
   ]
  },
  {
   "cell_type": "code",
   "execution_count": 108,
   "metadata": {},
   "outputs": [],
   "source": [
    "pool = pd.read_csv(\"./scripts/pools_pep.csv\", header=None)\n",
    "pool.columns = [\"file\", \"seq\"]\n",
    "pool = pool[pool.file.str.contains(\"_26\")]\n",
    "peptides = set(pool['seq'])"
   ]
  },
  {
   "cell_type": "code",
   "execution_count": 120,
   "metadata": {},
   "outputs": [],
   "source": [
    "df_26 = det_fdr_prophet(paths[0], peptides)"
   ]
  },
  {
   "cell_type": "code",
   "execution_count": 197,
   "metadata": {},
   "outputs": [],
   "source": [
    "def BH(df):\n",
    "    \n",
    "    ch2_mu = 0.12364729458917836 \n",
    "    ch2_beta = 0.02430852610492772\n",
    "    ch3_mu = 0.11733466933867737 \n",
    "    ch3_beta = 0.026235996248217347\n",
    "    \n",
    "    pv = np.zeros(len(df.index))\n",
    "    \n",
    "    k=0\n",
    "    for i in df.index:\n",
    "        \n",
    "        cur_ch = df.at[i, 'charge']\n",
    "        cur_tev = df.at[i, 'TEV']\n",
    "                \n",
    "        if cur_ch == 2:\n",
    "            p_v = 0.47*(1 - lows.mubeta_cdf(cur_tev, ch2_mu, ch2_beta))\n",
    "\n",
    "        if cur_ch == 3:\n",
    "            p_v = 0.8*(1 - lows.mubeta_cdf(cur_tev, ch3_mu, ch3_beta))\n",
    "    \n",
    "        pv[k] = p_v\n",
    "        k += 1\n",
    "    \n",
    "    df['pv'] = pv\n",
    "    df = df.sort_values(\"pv\", ascending=True)\n",
    "    df.reset_index(inplace=True, drop=True)\n",
    "    df.index += 1\n",
    "    #BH = pd.Series((df.index.to_series() * fdr) / len(df))\n",
    "    #df['bh'] = BH\n",
    "    #finaldf = df[df['PP_pval'] <= df['bh']]\n",
    "    return df\n",
    "    "
   ]
  },
  {
   "cell_type": "code",
   "execution_count": 199,
   "metadata": {},
   "outputs": [],
   "source": [
    "new_df = BH(df_26)"
   ]
  },
  {
   "cell_type": "code",
   "execution_count": 180,
   "metadata": {},
   "outputs": [
    {
     "data": {
      "text/html": [
       "<div>\n",
       "<style scoped>\n",
       "    .dataframe tbody tr th:only-of-type {\n",
       "        vertical-align: middle;\n",
       "    }\n",
       "\n",
       "    .dataframe tbody tr th {\n",
       "        vertical-align: top;\n",
       "    }\n",
       "\n",
       "    .dataframe thead th {\n",
       "        text-align: right;\n",
       "    }\n",
       "</style>\n",
       "<table border=\"1\" class=\"dataframe\">\n",
       "  <thead>\n",
       "    <tr style=\"text-align: right;\">\n",
       "      <th></th>\n",
       "      <th>TEV</th>\n",
       "      <th>label</th>\n",
       "      <th>scan</th>\n",
       "      <th>charge</th>\n",
       "      <th>peptide</th>\n",
       "      <th>pv</th>\n",
       "    </tr>\n",
       "  </thead>\n",
       "  <tbody>\n",
       "    <tr>\n",
       "      <th>1</th>\n",
       "      <td>0.454813</td>\n",
       "      <td>1.0</td>\n",
       "      <td>21470.0</td>\n",
       "      <td>2.0</td>\n",
       "      <td>HAQTVETLLR</td>\n",
       "      <td>0.000001</td>\n",
       "    </tr>\n",
       "    <tr>\n",
       "      <th>2</th>\n",
       "      <td>0.446654</td>\n",
       "      <td>1.0</td>\n",
       "      <td>21451.0</td>\n",
       "      <td>2.0</td>\n",
       "      <td>HAQTVETLLR</td>\n",
       "      <td>0.000002</td>\n",
       "    </tr>\n",
       "    <tr>\n",
       "      <th>3</th>\n",
       "      <td>0.442111</td>\n",
       "      <td>1.0</td>\n",
       "      <td>25360.0</td>\n",
       "      <td>2.0</td>\n",
       "      <td>VDCAFLDQPR</td>\n",
       "      <td>0.000002</td>\n",
       "    </tr>\n",
       "    <tr>\n",
       "      <th>4</th>\n",
       "      <td>0.438813</td>\n",
       "      <td>1.0</td>\n",
       "      <td>7767.0</td>\n",
       "      <td>2.0</td>\n",
       "      <td>GYDQSAYDGK</td>\n",
       "      <td>0.000002</td>\n",
       "    </tr>\n",
       "    <tr>\n",
       "      <th>5</th>\n",
       "      <td>0.436398</td>\n",
       "      <td>1.0</td>\n",
       "      <td>21516.0</td>\n",
       "      <td>2.0</td>\n",
       "      <td>HAQTVETLLR</td>\n",
       "      <td>0.000003</td>\n",
       "    </tr>\n",
       "    <tr>\n",
       "      <th>...</th>\n",
       "      <td>...</td>\n",
       "      <td>...</td>\n",
       "      <td>...</td>\n",
       "      <td>...</td>\n",
       "      <td>...</td>\n",
       "      <td>...</td>\n",
       "    </tr>\n",
       "    <tr>\n",
       "      <th>54557</th>\n",
       "      <td>0.050970</td>\n",
       "      <td>0.0</td>\n",
       "      <td>53783.0</td>\n",
       "      <td>2.0</td>\n",
       "      <td>KDLPFVEEIK</td>\n",
       "      <td>1.000000</td>\n",
       "    </tr>\n",
       "    <tr>\n",
       "      <th>54558</th>\n",
       "      <td>0.049491</td>\n",
       "      <td>0.0</td>\n",
       "      <td>23407.0</td>\n",
       "      <td>2.0</td>\n",
       "      <td>EQEIKLQK</td>\n",
       "      <td>1.000000</td>\n",
       "    </tr>\n",
       "    <tr>\n",
       "      <th>54559</th>\n",
       "      <td>0.049185</td>\n",
       "      <td>0.0</td>\n",
       "      <td>29696.0</td>\n",
       "      <td>2.0</td>\n",
       "      <td>STLDELLGR</td>\n",
       "      <td>1.000000</td>\n",
       "    </tr>\n",
       "    <tr>\n",
       "      <th>54560</th>\n",
       "      <td>0.048768</td>\n",
       "      <td>0.0</td>\n",
       "      <td>38726.0</td>\n",
       "      <td>2.0</td>\n",
       "      <td>EEAEEALK</td>\n",
       "      <td>1.000000</td>\n",
       "    </tr>\n",
       "    <tr>\n",
       "      <th>54561</th>\n",
       "      <td>0.048405</td>\n",
       "      <td>0.0</td>\n",
       "      <td>29661.0</td>\n",
       "      <td>2.0</td>\n",
       "      <td>NAKPAHRKR</td>\n",
       "      <td>1.000000</td>\n",
       "    </tr>\n",
       "  </tbody>\n",
       "</table>\n",
       "<p>54561 rows × 6 columns</p>\n",
       "</div>"
      ],
      "text/plain": [
       "            TEV  label     scan  charge     peptide        pv\n",
       "1      0.454813    1.0  21470.0     2.0  HAQTVETLLR  0.000001\n",
       "2      0.446654    1.0  21451.0     2.0  HAQTVETLLR  0.000002\n",
       "3      0.442111    1.0  25360.0     2.0  VDCAFLDQPR  0.000002\n",
       "4      0.438813    1.0   7767.0     2.0  GYDQSAYDGK  0.000002\n",
       "5      0.436398    1.0  21516.0     2.0  HAQTVETLLR  0.000003\n",
       "...         ...    ...      ...     ...         ...       ...\n",
       "54557  0.050970    0.0  53783.0     2.0  KDLPFVEEIK  1.000000\n",
       "54558  0.049491    0.0  23407.0     2.0    EQEIKLQK  1.000000\n",
       "54559  0.049185    0.0  29696.0     2.0   STLDELLGR  1.000000\n",
       "54560  0.048768    0.0  38726.0     2.0    EEAEEALK  1.000000\n",
       "54561  0.048405    0.0  29661.0     2.0   NAKPAHRKR  1.000000\n",
       "\n",
       "[54561 rows x 6 columns]"
      ]
     },
     "execution_count": 180,
     "metadata": {},
     "output_type": "execute_result"
    }
   ],
   "source": [
    "new_df"
   ]
  },
  {
   "cell_type": "code",
   "execution_count": 178,
   "metadata": {},
   "outputs": [
    {
     "data": {
      "text/plain": [
       "0.9999989499441363"
      ]
     },
     "execution_count": 178,
     "metadata": {},
     "output_type": "execute_result"
    }
   ],
   "source": [
    "lows.mubeta_cdf(0.45813, 0.1236, 0.0243)"
   ]
  },
  {
   "cell_type": "code",
   "execution_count": 181,
   "metadata": {},
   "outputs": [],
   "source": [
    "def get_fdr(df, fdr):\n",
    "    BH = pd.Series((df.index.to_series() * fdr) / len(df))\n",
    "    df['bh'] = BH\n",
    "    finaldf = df[df['pv'] <= df['bh']]\n",
    "    return finaldf"
   ]
  },
  {
   "cell_type": "code",
   "execution_count": 186,
   "metadata": {},
   "outputs": [],
   "source": [
    "w = get_fdr(new_df, 0.3)"
   ]
  },
  {
   "cell_type": "code",
   "execution_count": 187,
   "metadata": {},
   "outputs": [
    {
     "data": {
      "text/plain": [
       "0.04113876881800566"
      ]
     },
     "execution_count": 187,
     "metadata": {},
     "output_type": "execute_result"
    }
   ],
   "source": [
    "len(w[w['label'] == 0])/len(w)"
   ]
  },
  {
   "cell_type": "code",
   "execution_count": 200,
   "metadata": {},
   "outputs": [],
   "source": [
    "sup = np.linspace(0.05, 0.3, 10)\n",
    "fdps = []\n",
    "\n",
    "for i in sup:\n",
    "    w = get_fdr(new_df, i)\n",
    "    fdps.append(len(w[w['label'] == 0])/len(w))"
   ]
  },
  {
   "cell_type": "code",
   "execution_count": 202,
   "metadata": {},
   "outputs": [
    {
     "data": {
      "image/png": "[encoded data removed]",
      "text/plain": [
       "<Figure size 360x360 with 1 Axes>"
      ]
     },
     "metadata": {
      "needs_background": "light"
     },
     "output_type": "display_data"
    }
   ],
   "source": [
    "fig = plt.figure(figsize=(5,5))\n",
    "plt.scatter(sup, fdps)\n",
    "plt.plot(sup, fdps)\n",
    "plt.xlabel(\"FDR\")\n",
    "plt.ylabel(\"FDP\")\n",
    "plt.savefig(\"./graphs/fdr_fdp_26_pi0_corrected.png\", bbox_inches='tight', dpi=400)"
   ]
  },
  {
   "cell_type": "code",
   "execution_count": 127,
   "metadata": {},
   "outputs": [],
   "source": [
    "def det_fdr_prophet(interactfile, ref_p):\n",
    "    \n",
    "    d = pepxml.read(interactfile)\n",
    "    \n",
    "    #pps = -1*np.ones(len(d))\n",
    "    fvals = -1*np.ones(len(d))\n",
    "    labels = np.zeros(len(d))\n",
    "    charge = np.zeros(len(d))\n",
    "    seqs = []\n",
    "    specs = np.zeros(len(d))\n",
    "                    \n",
    "    \n",
    "    k=0\n",
    "    for el in d:\n",
    "   \n",
    "        if 'search_hit' in el.keys():\n",
    "            #p_v = el['search_hit'][0]['analysis_result'][0]['peptideprophet_result']['probability']\n",
    "            spec = el['start_scan']\n",
    "            ch = int(el['assumed_charge'])\n",
    "            pep = el['search_hit'][0]['peptide']\n",
    "            fval = el['search_hit'][0]['search_score']['expect']\n",
    "            fval = -0.02 * np.log(fval / 1000.)\n",
    "\n",
    "\n",
    "            if pep in ref_p:\n",
    "                label = 1\n",
    "            else:\n",
    "                label = 0\n",
    "                \n",
    "            fvals[k] = fval\n",
    "            specs[k] = spec\n",
    "            labels[k] = label\n",
    "            charge[k] = ch\n",
    "            seqs.append(pep)\n",
    "          \n",
    "            k +=1\n",
    "            \n",
    "    \n",
    "\n",
    "    df = pd.DataFrame(np.array([fvals, labels, specs, charge]).T)\n",
    "    df.columns = ['TEV', 'label', 'scan', 'charge']\n",
    "    df = df[df['TEV'] != -1]\n",
    "    df['peptide'] = seqs\n",
    "    \n",
    "    #df = df.sort_values('PP_pval', inplace=False, ascending=True)\n",
    "    #df = df.reset_index(drop=True)\n",
    "    #df.index += 1\n",
    "    return df"
   ]
  },
  {
   "cell_type": "code",
   "execution_count": null,
   "metadata": {},
   "outputs": [],
   "source": [
    "len(tev2[tev2[:,0] < 0.2][:,0])/len(tev2[:,0])"
   ]
  },
  {
   "cell_type": "code",
   "execution_count": 187,
   "metadata": {},
   "outputs": [],
   "source": [
    "c = lambda x: 2*x"
   ]
  },
  {
   "cell_type": "code",
   "execution_count": 96,
   "metadata": {},
   "outputs": [],
   "source": [
    "import scipy\n",
    "from scipy.optimize import fsolve\n",
    "import numpy as np\n",
    "import math\n",
    "p = 0.1\n",
    "mu = 0.1\n",
    "beta = 0.02\n",
    "k=1\n",
    "def universal_cdf(x):\n",
    "        \n",
    "        z = (x-mu)/beta\n",
    "        f = lambda m: np.exp(-m*z)/math.factorial(m)\n",
    "        summed = 0\n",
    "        \n",
    "        for i in range(k):\n",
    "            #print(f(i))\n",
    "            summed += f(i)\n",
    "            \n",
    "        #print(f\"summed is {summed}\")\n",
    "        cdf = np.log(abs(p- np.exp(-np.exp(-z))*summed))\n",
    "\n",
    "        return cdf\n",
    "    \n",
    "    \n",
    "def universal_ppf(p, alpha, mu, beta):\n",
    "\n",
    "    res = scipy.optimize.minimize(\n",
    "    fun=lambda log_params, p, mu, beta, alpha: universal_cdf(log_params, p, mu, beta, alpha),\n",
    "    x0=0.1,\n",
    "    args=(p,mu, beta, alpha,),\n",
    "       method='BFGS'\n",
    "\n",
    "    )\n",
    "\n",
    "    return res.x[0]"
   ]
  },
  {
   "cell_type": "code",
   "execution_count": 98,
   "metadata": {},
   "outputs": [
    {
     "data": {
      "text/plain": [
       "array([50.])"
      ]
     },
     "execution_count": 98,
     "metadata": {},
     "output_type": "execute_result"
    }
   ],
   "source": [
    "fsolve(universal_cdf, 0)"
   ]
  },
  {
   "cell_type": "code",
   "execution_count": 91,
   "metadata": {},
   "outputs": [
    {
     "data": {
      "text/plain": [
       "0.08591515626126678"
      ]
     },
     "execution_count": 91,
     "metadata": {},
     "output_type": "execute_result"
    }
   ],
   "source": [
    "universal_ppf(0.4, 2, 0.1, 0.02)"
   ]
  },
  {
   "cell_type": "code",
   "execution_count": 78,
   "metadata": {},
   "outputs": [
    {
     "data": {
      "text/plain": [
       "0.4989998542374931"
      ]
     },
     "execution_count": 78,
     "metadata": {},
     "output_type": "execute_result"
    }
   ],
   "source": [
    "universal_cdf(0.10733025, 0.001, 0.1, 0.02, 1)"
   ]
  },
  {
   "cell_type": "code",
   "execution_count": null,
   "metadata": {},
   "outputs": [],
   "source": [
    "# investigate if mixing realization of RVs with different finite N will make a difference on the final distribution's parameters\n",
    "\n",
    "def finite_gumbel_ppf(p, n0, n, a):\n",
    "    q1 = n/n0\n",
    "    q2 = 1 - np.power(p, 1/n)\n",
    "    return a*np.log(q1*q2)\n",
    "\n",
    "random.seed()\n",
    "uni = st.uniform.rvs(0, 1, (200, 10000))\n",
    "gf1 = finite_gumbel_ppf(uni, 500, 8000, -0.02)\n",
    "\n",
    "random.seed()\n",
    "uni = st.uniform.rvs(0, 1, (200, 10000))\n",
    "gf2 = finite_gumbel_ppf(uni, 500, 16000, -0.02)\n",
    "\n",
    "comb = list(map(lambda x: np.append(gf1[x], gf2[x]), np.arange(len(gf1))))\n",
    "params = list(map(lambda x: lows.mle_universal(comb[x], 0), np.arange(len(comb))))\n",
    "\n"
   ]
  },
  {
   "cell_type": "code",
   "execution_count": null,
   "metadata": {},
   "outputs": [],
   "source": [
    "single = st.uniform.rvs(0, 1, 10000)\n",
    "final = list(map(lambda x: finite_gumbel_ppf(single, 500, x, -0.02), np.arange(8000, 40000, 200)))"
   ]
  },
  {
   "cell_type": "code",
   "execution_count": null,
   "metadata": {},
   "outputs": [],
   "source": [
    "params = list(map(lambda x: lows.mle_universal(final[x], 0), np.arange(len(final))))"
   ]
  },
  {
   "cell_type": "code",
   "execution_count": null,
   "metadata": {},
   "outputs": [],
   "source": [
    "first = list(map(lambda x: params[x][0], range(len(params))))\n",
    "second = list(map(lambda x: params[x][1], range(len(params))))"
   ]
  },
  {
   "cell_type": "code",
   "execution_count": null,
   "metadata": {},
   "outputs": [],
   "source": [
    "plt.hist2d(first, second, bins=(50,100))\n",
    "plt.show()"
   ]
  },
  {
   "cell_type": "code",
   "execution_count": null,
   "metadata": {},
   "outputs": [],
   "source": [
    "plt.scatter(first, second, s=1)\n",
    "st.linregress(first, second)"
   ]
  },
  {
   "cell_type": "code",
   "execution_count": null,
   "metadata": {},
   "outputs": [],
   "source": [
    "sns.distplot(n2)"
   ]
  },
  {
   "cell_type": "code",
   "execution_count": null,
   "metadata": {},
   "outputs": [],
   "source": [
    "lows.mle_universal(comb, 0)"
   ]
  },
  {
   "cell_type": "code",
   "execution_count": null,
   "metadata": {},
   "outputs": [],
   "source": [
    "comb = list(map(lambda x: np.append(gf1[x], gf2[x]), np.arange(len(gf1))))"
   ]
  },
  {
   "cell_type": "code",
   "execution_count": null,
   "metadata": {},
   "outputs": [],
   "source": [
    "comb[0]"
   ]
  }
 ],
 "metadata": {
  "kernelspec": {
   "display_name": "Python 3",
   "language": "python",
   "name": "python3"
  },
  "language_info": {
   "codemirror_mode": {
    "name": "ipython",
    "version": 3
   },
   "file_extension": ".py",
   "mimetype": "text/x-python",
   "name": "python",
   "nbconvert_exporter": "python",
   "pygments_lexer": "ipython3",
   "version": "3.8.8"
  }
 },
 "nbformat": 4,
 "nbformat_minor": 5
}
