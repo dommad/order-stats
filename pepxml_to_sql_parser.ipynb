{
 "cells": [
  {
   "cell_type": "code",
   "execution_count": 47,
   "metadata": {},
   "outputs": [],
   "source": [
    "import sqlite3\n",
    "from sqlite3 import Error\n",
    "import numpy as np\n",
    "from pyteomics import pepxml"
   ]
  },
  {
   "cell_type": "code",
   "execution_count": 65,
   "metadata": {},
   "outputs": [
    {
     "name": "stdout",
     "output_type": "stream",
     "text": [
      "2.6.0\n"
     ]
    }
   ],
   "source": [
    "db_path = \"/data/dominik/lower_order/pepxml_test.db\"\n",
    "\n",
    "conn = None\n",
    "try:\n",
    "    conn = sqlite3.connect(db_path, isolation_level=None)\n",
    "    print(sqlite3.version)\n",
    "except Error as e:\n",
    "    print(e)\n",
    "\n",
    "\n",
    "#conn.execute('pragma journal_mode=memory')\n",
    "cursor = conn.cursor()"
   ]
  },
  {
   "cell_type": "code",
   "execution_count": 66,
   "metadata": {},
   "outputs": [
    {
     "data": {
      "text/plain": [
       "<sqlite3.Cursor at 0x7f119bf8e420>"
      ]
     },
     "execution_count": 66,
     "metadata": {},
     "output_type": "execute_result"
    }
   ],
   "source": [
    "cursor.execute(create_spectra)\n",
    "cursor.execute(create_results)"
   ]
  },
  {
   "cell_type": "code",
   "execution_count": 67,
   "metadata": {},
   "outputs": [],
   "source": [
    "d = pepxml.read(\"/data/dominik/lower_order/Adult_Heart_bRP_Elite_39_f20.pep.xml\")"
   ]
  },
  {
   "cell_type": "code",
   "execution_count": 68,
   "metadata": {},
   "outputs": [
    {
     "name": "stdout",
     "output_type": "stream",
     "text": [
      "0...0..."
     ]
    },
    {
     "ename": "IntegrityError",
     "evalue": "UNIQUE constraint failed: spectra.scan",
     "output_type": "error",
     "traceback": [
      "\u001b[0;31m---------------------------------------------------------------------------\u001b[0m",
      "\u001b[0;31mIntegrityError\u001b[0m                            Traceback (most recent call last)",
      "\u001b[0;32m<ipython-input-68-669589b9a647>\u001b[0m in \u001b[0;36m<module>\u001b[0;34m\u001b[0m\n\u001b[1;32m     14\u001b[0m \u001b[0;34m\u001b[0m\u001b[0m\n\u001b[1;32m     15\u001b[0m         \u001b[0;32mif\u001b[0m \u001b[0mm\u001b[0m \u001b[0;34m>\u001b[0m \u001b[0;36m0\u001b[0m\u001b[0;34m:\u001b[0m\u001b[0;34m\u001b[0m\u001b[0;34m\u001b[0m\u001b[0m\n\u001b[0;32m---> 16\u001b[0;31m             \u001b[0mtransaction_items\u001b[0m\u001b[0;34m(\u001b[0m\u001b[0mcursor\u001b[0m\u001b[0;34m,\u001b[0m \u001b[0mtemp_item\u001b[0m\u001b[0;34m)\u001b[0m\u001b[0;34m\u001b[0m\u001b[0;34m\u001b[0m\u001b[0m\n\u001b[0m\u001b[1;32m     17\u001b[0m             \u001b[0mprint\u001b[0m\u001b[0;34m(\u001b[0m\u001b[0mtemp_results\u001b[0m\u001b[0;34m)\u001b[0m\u001b[0;34m\u001b[0m\u001b[0;34m\u001b[0m\u001b[0m\n\u001b[1;32m     18\u001b[0m             \u001b[0mtransaction_results\u001b[0m\u001b[0;34m(\u001b[0m\u001b[0mcursor\u001b[0m\u001b[0;34m,\u001b[0m \u001b[0mtemp_results\u001b[0m\u001b[0;34m)\u001b[0m\u001b[0;34m\u001b[0m\u001b[0;34m\u001b[0m\u001b[0m\n",
      "\u001b[0;32m<ipython-input-51-4d42d10e6e66>\u001b[0m in \u001b[0;36mtransaction_items\u001b[0;34m(cursor, array)\u001b[0m\n\u001b[1;32m      2\u001b[0m     \u001b[0mcursor\u001b[0m\u001b[0;34m.\u001b[0m\u001b[0mexecute\u001b[0m\u001b[0;34m(\u001b[0m\u001b[0;34m\"BEGIN TRANSACTION\"\u001b[0m\u001b[0;34m)\u001b[0m\u001b[0;34m\u001b[0m\u001b[0;34m\u001b[0m\u001b[0m\n\u001b[1;32m      3\u001b[0m     \u001b[0;32mfor\u001b[0m \u001b[0mchunk\u001b[0m \u001b[0;32min\u001b[0m \u001b[0mrange\u001b[0m\u001b[0;34m(\u001b[0m\u001b[0mlen\u001b[0m\u001b[0;34m(\u001b[0m\u001b[0marray\u001b[0m\u001b[0;34m)\u001b[0m\u001b[0;34m)\u001b[0m\u001b[0;34m:\u001b[0m\u001b[0;34m\u001b[0m\u001b[0;34m\u001b[0m\u001b[0m\n\u001b[0;32m----> 4\u001b[0;31m         cursor.executemany(\n\u001b[0m\u001b[1;32m      5\u001b[0m             \u001b[0;34m\"\"\"insert into spectra(scan, spectrum, precursor_mass, rt_sec, charge) values (?, ?, ?, ?, ?);\"\"\"\u001b[0m\u001b[0;34m,\u001b[0m\u001b[0;34m\u001b[0m\u001b[0;34m\u001b[0m\u001b[0m\n\u001b[1;32m      6\u001b[0m             \u001b[0;34m(\u001b[0m\u001b[0marray\u001b[0m\u001b[0;34m[\u001b[0m\u001b[0mchunk\u001b[0m\u001b[0;34m]\u001b[0m\u001b[0;34m,\u001b[0m\u001b[0;34m)\u001b[0m\u001b[0;34m\u001b[0m\u001b[0;34m\u001b[0m\u001b[0m\n",
      "\u001b[0;31mIntegrityError\u001b[0m: UNIQUE constraint failed: spectra.scan"
     ]
    }
   ],
   "source": [
    "k=0\n",
    "\n",
    "m = 0\n",
    "q = 0\n",
    "\n",
    "temp_results=[(),]*100000\n",
    "temp_item=[(),]*1000\n",
    "        \n",
    "        \n",
    "for item in d:\n",
    "    if m%1000 == 0: \n",
    "        \n",
    "        print(f\"{k}...\", flush=False, end=\"\")\n",
    "        \n",
    "        if m > 0:\n",
    "            transaction_items(cursor, temp_item)\n",
    "            #print(temp_results)\n",
    "            transaction_results(cursor, temp_results)\n",
    "            \n",
    "        m=0\n",
    "        q=0\n",
    "        \n",
    "        temp_results=[(),]*10000\n",
    "        temp_item=[(),]*1000\n",
    "        \n",
    "    \n",
    "    spec = item['spectrum']\n",
    "    prec = item['precursor_neutral_mass']\n",
    "    charge = item['assumed_charge']\n",
    "    rt = item['retention_time_sec']\n",
    "    scan = item['start_scan']\n",
    "\n",
    "    item_pack = (scan, spec, prec, rt, charge)\n",
    "    #print(m)\n",
    "    temp_item[m] = item_pack\n",
    "    m += 1\n",
    "    \n",
    "    #insert_spectra(cursor, item_pack)\n",
    "                  \n",
    "    for hit in item['search_hit']:\n",
    "       \n",
    "        pep = hit['peptide']\n",
    "        hit_no = hit['hit_rank']\n",
    "        \n",
    "        scores = hit['search_score']\n",
    "        \n",
    "        deltacn = scores['deltacn']\n",
    "        spscore = scores['spscore']\n",
    "        sprank = scores['sprank']\n",
    "        expect = scores['expect']\n",
    "        xcorr = scores['xcorr']\n",
    "        \n",
    "        dm = hit['massdiff']\n",
    "        \n",
    "        hit_pack = (scan, hit_no, xcorr, deltacn, spscore, sprank,\n",
    "                    expect, pep)\n",
    "        \n",
    "        #insert_results(cursor, hit_pack)\n",
    "        \n",
    "        temp_results[q] = hit_pack\n",
    "        print(temp_results)\n",
    "        q += 1\n",
    "\n",
    "        \n",
    "        \n",
    "        \n",
    "        "
   ]
  },
  {
   "cell_type": "code",
   "execution_count": 51,
   "metadata": {},
   "outputs": [],
   "source": [
    "def transaction_items(cursor, array):\n",
    "    cursor.execute(\"BEGIN TRANSACTION\")\n",
    "    for chunk in range(len(array)):\n",
    "        cursor.executemany(\n",
    "            \"\"\"insert into spectra(scan, spectrum, precursor_mass, rt_sec, charge) values (?, ?, ?, ?, ?);\"\"\",\n",
    "            (array[chunk],)\n",
    "            )\n",
    "    cursor.execute(\"COMMIT\")\n",
    "    \n",
    "    \n",
    "def transaction_results(cursor, array):\n",
    "    cursor.execute(\"BEGIN TRANSACTION\")\n",
    "    for chunk in range(len(array)):\n",
    "        cursor.executemany(\n",
    "            \"\"\"insert into search_results(scan, hit, xcorr, deltacn, spscore, sprank, expect, peptide)\n",
    "                VALUES(?,?,?,?,?,?,?,?);\"\"\",\n",
    "            (array[chunk],)\n",
    "            )\n",
    "    cursor.execute(\"COMMIT\")"
   ]
  },
  {
   "cell_type": "code",
   "execution_count": 79,
   "metadata": {},
   "outputs": [
    {
     "data": {
      "text/plain": [
       "{'xcorr': 0.471,\n",
       " 'deltacn': 0.161,\n",
       " 'spscore': 3.8,\n",
       " 'sprank': 5.0,\n",
       " 'expect': 1.77}"
      ]
     },
     "execution_count": 79,
     "metadata": {},
     "output_type": "execute_result"
    }
   ],
   "source": [
    "next(d)['search_hit'][0]['search_score']"
   ]
  },
  {
   "cell_type": "code",
   "execution_count": null,
   "metadata": {},
   "outputs": [],
   "source": [
    "for path in paths:\n",
    "            print(path)\n",
    "            cur_file = pepxml.read(path)\n",
    "\n",
    "            for spec in cur_file:\n",
    "                if 'search_hit' in spec.keys():\n",
    "                    if len(spec['search_hit']) == 10:\n",
    "                        tev.append(list(map(lambda x: -0.02*np.log(spec['search_hit'][x]['search_score']['expect']/1000), np.arange(10))))\n",
    "                        charges.append(int(spec['assumed_charge']))\n",
    "                        big_n.append(int(spec['search_hit'][0]['num_matched_peptides']))"
   ]
  },
  {
   "cell_type": "code",
   "execution_count": 12,
   "metadata": {},
   "outputs": [],
   "source": [
    "create_spectra = \"\"\"CREATE TABLE IF NOT EXISTS spectra (\n",
    "                    scan integer PRIMARY KEY,\n",
    "                    spectrum text,\n",
    "                    precursor_mass real,\n",
    "                    rt_sec real,\n",
    "                    charge integer\n",
    "                    );\"\"\"\n",
    "                    \n",
    "create_results = \"\"\"CREATE TABLE IF NOT EXISTS search_results (\n",
    "                    id integer PRIMARY KEY,\n",
    "                    hit integer,\n",
    "                    xcorr float,\n",
    "                    deltacn float,\n",
    "                    spscore float,\n",
    "                    sprank integer,\n",
    "                    expect float,\n",
    "                    peptide text,\n",
    "                    scan integer,\n",
    "                    FOREIGN KEY (scan) REFERENCES spectra (scan)\n",
    "                    );\"\"\""
   ]
  },
  {
   "cell_type": "code",
   "execution_count": 30,
   "metadata": {},
   "outputs": [],
   "source": [
    "a = cursor.fetchall()"
   ]
  },
  {
   "cell_type": "code",
   "execution_count": 76,
   "metadata": {},
   "outputs": [],
   "source": [
    "def insert_spectra(cursor, spectra):\n",
    "    sql = \"\"\" INSERT INTO spectra(scan, spectrum, precursor_mass, rt_sec, charge)\n",
    "                VALUES(?,?,?,?,?); \"\"\"\n",
    "    cursor.execute(sql, spectra)\n",
    "    \n",
    "    \n",
    "def insert_results(cursor, spectra):\n",
    "    sql = \"\"\" INSERT INTO search_results (scan, hit, xcorr, deltacn, spscore, sprank, expect, peptide)\n",
    "                VALUES(?,?,?,?,?,?,?,?); \"\"\"\n",
    "    cursor.execute(sql, spectra)"
   ]
  },
  {
   "cell_type": "code",
   "execution_count": 26,
   "metadata": {},
   "outputs": [],
   "source": [
    "insert_spectra(cursor, (120, \"Hello world!\", 123.14, 121234.44, 3))"
   ]
  },
  {
   "cell_type": "code",
   "execution_count": null,
   "metadata": {},
   "outputs": [],
   "source": []
  },
  {
   "cell_type": "code",
   "execution_count": 64,
   "metadata": {},
   "outputs": [],
   "source": [
    "conn.close()"
   ]
  },
  {
   "cell_type": "code",
   "execution_count": null,
   "metadata": {},
   "outputs": [],
   "source": [
    "con = sqlite3.connect(self.target_db, isolation_level=None)\n",
    "        cur = con.cursor()\n",
    "\n",
    "        cur.execute(\"\"\"create table if not exists likelihood (\n",
    "                        id integer PRIMARY KEY,\n",
    "                        pepid integer NOT NULL,\n",
    "                        mzbin integer NOT NULL,\n",
    "                        replicates integer NOT NULL,\n",
    "                        mzp float NOT NULL,\n",
    "                        mean float NOT NULL,\n",
    "                        variance float NOT NULL\n",
    "                   );\"\"\")\n",
    "        \n",
    "        \n",
    "con.close()"
   ]
  }
 ],
 "metadata": {
  "interpreter": {
   "hash": "4389968300cbd26472c558fe5fa08af677b72284526be1aeafb6704b82d7f593"
  },
  "kernelspec": {
   "display_name": "Python 3.8.8 ('base')",
   "language": "python",
   "name": "python3"
  },
  "language_info": {
   "codemirror_mode": {
    "name": "ipython",
    "version": 3
   },
   "file_extension": ".py",
   "mimetype": "text/x-python",
   "name": "python",
   "nbconvert_exporter": "python",
   "pygments_lexer": "ipython3",
   "version": "3.8.8"
  },
  "orig_nbformat": 4
 },
 "nbformat": 4,
 "nbformat_minor": 2
}
